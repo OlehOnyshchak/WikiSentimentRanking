{
 "cells": [
  {
   "cell_type": "code",
   "execution_count": 1,
   "metadata": {},
   "outputs": [],
   "source": [
    "import os\n",
    "\n",
    "os.environ['PYWIKIBOT_DIR'] = './wiki_reader/'"
   ]
  },
  {
   "cell_type": "code",
   "execution_count": 2,
   "metadata": {},
   "outputs": [],
   "source": [
    "from pyspark import SparkContext\n",
    "from pyspark.streaming import StreamingContext\n",
    "from pyspark.sql.functions import udf\n",
    "from pyspark.sql import SparkSession\n",
    "from pyspark.sql.types import StringType, StructField, StructType, ArrayType, LongType, DoubleType\n",
    "\n",
    "from spark_app.scorers import score_text, vader_scorer\n",
    "from spark_app.spark_tools import SparkSentimentStreamer\n",
    "from pathlib import Path\n",
    "\n",
    "from ml.OutputProcessing import process_output_files"
   ]
  },
  {
   "cell_type": "code",
   "execution_count": 3,
   "metadata": {},
   "outputs": [
    {
     "data": {
      "application/javascript": [
       "IPython.OutputArea.auto_scroll_threshold = 20;\n"
      ],
      "text/plain": [
       "<IPython.core.display.Javascript object>"
      ]
     },
     "metadata": {},
     "output_type": "display_data"
    }
   ],
   "source": [
    "%%javascript\n",
    "IPython.OutputArea.auto_scroll_threshold = 20;"
   ]
  },
  {
   "cell_type": "markdown",
   "metadata": {},
   "source": [
    "## Input"
   ]
  },
  {
   "cell_type": "code",
   "execution_count": 4,
   "metadata": {},
   "outputs": [],
   "source": [
    "request = 'peano'\n",
    "\n",
    "is_category = False # Set it to True if you want to switch search mode from \"containing word\" to \"all pages in category\"\n",
    "batch_size = 50 # Amount of pages in one batch\n",
    "limit = 1000 # Maximum amount of pages to process, set to None if unlimited\n",
    "debug_info = False # Set it to True if you want \n",
    "\n",
    "wiki_page_dir = 'requests/'\n",
    "spark_results_dir = 'responses/'"
   ]
  },
  {
   "cell_type": "markdown",
   "metadata": {},
   "source": [
    "## Processing"
   ]
  },
  {
   "cell_type": "code",
   "execution_count": 5,
   "metadata": {},
   "outputs": [],
   "source": [
    "# from ml.LogisticRegressionCached import readFromCache\n",
    "\n",
    "# (lrModel, pipelineModel) = readFromCache('./ml/train/')\n",
    "\n",
    "# def score_text_ml(text):\n",
    "#     df = spark.createDataFrame([(text, 2)], ['text', 'target'])\n",
    "#     df_transformed = pipelineModel.transform(df) # To fix\n",
    "#     predictions = lrModel.transform(df_transformed)\n",
    "#     predictions = predictions.select(['text', 'probability', 'prediction'])\n",
    "#     pd_predictions = predictions.toPandas()\n",
    "#     positive_probability = pd_predictions.iloc[0]['probability'][1]\n",
    "#     overall_probability = 2 * positive_probability - 1\n",
    "    \n",
    "#     return overall_probability"
   ]
  },
  {
   "cell_type": "code",
   "execution_count": 6,
   "metadata": {},
   "outputs": [],
   "source": [
    "def cleanup(path):\n",
    "    path = Path(path)\n",
    "    path.mkdir(parents=True, exist_ok=True)\n",
    "    for x in path.iterdir():\n",
    "        if x.is_file():\n",
    "            x.unlink()\n",
    "        else:\n",
    "            cleanup(x)\n",
    "            x.rmdir()"
   ]
  },
  {
   "cell_type": "code",
   "execution_count": 7,
   "metadata": {},
   "outputs": [],
   "source": [
    "def spark_process(request, score_func, size):\n",
    "    data_in = wiki_page_dir + request\n",
    "    data_out = spark_results_dir + request\n",
    "    cleanup(data_out)\n",
    "    \n",
    "    spark = SparkSession.builder\\\n",
    "        .master(\"local[*]\")\\\n",
    "        .appName(\"NetworkWordCount\")\\\n",
    "        .getOrCreate()\n",
    "    \n",
    "    sc = spark.sparkContext\n",
    "    ssc = StreamingContext(sc, 1)    \n",
    "    \n",
    "    streamer = SparkSentimentStreamer(sc,\n",
    "                                      ssc,\n",
    "                                      spark,\n",
    "                                      score_func,\n",
    "                                      data_in,\n",
    "                                      data_out,\n",
    "                                      size,\n",
    "                                      debug_info=debug_info)\n",
    "    streamer.run()"
   ]
  },
  {
   "cell_type": "code",
   "execution_count": 8,
   "metadata": {},
   "outputs": [],
   "source": [
    "from concurrent.futures import ThreadPoolExecutor\n",
    "import wiki_reader.reader as reader\n",
    "\n",
    "query_size = reader.query_size(request, limit)\n",
    "preload_content = query_size <= 1500  # Set it True when you processing up to ~1500 pages to speed up process\n",
    "\n",
    "wiki_wrapper = lambda r,b,l,cat,cont: reader.query(r,out_dir=wiki_page_dir,batch_size=b,debug_info=debug_info,\n",
    "                                              limit=l,is_category=cat,preload_content=cont)"
   ]
  },
  {
   "cell_type": "code",
   "execution_count": null,
   "metadata": {
    "scrolled": false
   },
   "outputs": [],
   "source": [
    "with ThreadPoolExecutor(max_workers=4) as e:\n",
    "    e.submit(wiki_wrapper, request, batch_size, limit, is_category, preload_content)\n",
    "    e.submit(spark_process, request, vader_scorer, query_size)\n",
    "    e.submit(process_output_files, spark_results_dir, query_size)"
   ]
  },
  {
   "cell_type": "code",
   "execution_count": null,
   "metadata": {},
   "outputs": [],
   "source": []
  }
 ],
 "metadata": {
  "kernelspec": {
   "display_name": "Python 3",
   "language": "python",
   "name": "python3"
  },
  "language_info": {
   "codemirror_mode": {
    "name": "ipython",
    "version": 3
   },
   "file_extension": ".py",
   "mimetype": "text/x-python",
   "name": "python",
   "nbconvert_exporter": "python",
   "pygments_lexer": "ipython3",
   "version": "3.7.3"
  }
 },
 "nbformat": 4,
 "nbformat_minor": 2
}
