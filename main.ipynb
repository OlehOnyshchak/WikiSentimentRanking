{
 "cells": [
  {
   "cell_type": "code",
   "execution_count": 1,
   "metadata": {},
   "outputs": [
    {
     "name": "stdout",
     "output_type": "stream",
     "text": [
      "Collecting pywikibot\n",
      "\u001b[?25l  Downloading https://files.pythonhosted.org/packages/90/36/1956b5fe6b8130d61b60a8f5d56d27912f80e2f003d03468041ba319314e/pywikibot-3.0.20190430.tar.gz (515kB)\n",
      "\u001b[K     |████████████████████████████████| 522kB 835kB/s eta 0:00:01\n",
      "\u001b[?25hRequirement already satisfied: requests>=2.20.0 in /opt/conda/lib/python3.7/site-packages (from pywikibot) (2.22.0)\n",
      "Requirement already satisfied: certifi>=2017.4.17 in /opt/conda/lib/python3.7/site-packages (from requests>=2.20.0->pywikibot) (2019.6.16)\n",
      "Requirement already satisfied: idna<2.9,>=2.5 in /opt/conda/lib/python3.7/site-packages (from requests>=2.20.0->pywikibot) (2.8)\n",
      "Requirement already satisfied: chardet<3.1.0,>=3.0.2 in /opt/conda/lib/python3.7/site-packages (from requests>=2.20.0->pywikibot) (3.0.4)\n",
      "Requirement already satisfied: urllib3!=1.25.0,!=1.25.1,<1.26,>=1.21.1 in /opt/conda/lib/python3.7/site-packages (from requests>=2.20.0->pywikibot) (1.25.3)\n",
      "Building wheels for collected packages: pywikibot\n",
      "  Building wheel for pywikibot (setup.py) ... \u001b[?25ldone\n",
      "\u001b[?25h  Stored in directory: /home/jovyan/.cache/pip/wheels/6c/07/84/ba6645f74fe204adce4ec9a49365afdc5c526f1250691c5e41\n",
      "Successfully built pywikibot\n",
      "Installing collected packages: pywikibot\n",
      "Successfully installed pywikibot-3.0.dev0\n",
      "Collecting mwparserfromhell\n",
      "\u001b[?25l  Downloading https://files.pythonhosted.org/packages/23/03/4fb04da533c7e237c0104151c028d8bff856293d34e51d208c529696fb79/mwparserfromhell-0.5.4.tar.gz (135kB)\n",
      "\u001b[K     |████████████████████████████████| 143kB 865kB/s eta 0:00:01\n",
      "\u001b[?25hBuilding wheels for collected packages: mwparserfromhell\n",
      "  Building wheel for mwparserfromhell (setup.py) ... \u001b[?25ldone\n",
      "\u001b[?25h  Stored in directory: /home/jovyan/.cache/pip/wheels/2a/76/d5/7088b941df3b362c45dd7912dd05314bc034751ec9cbca9a75\n",
      "Successfully built mwparserfromhell\n",
      "Installing collected packages: mwparserfromhell\n",
      "Successfully installed mwparserfromhell-0.5.4\n",
      "Requirement already satisfied: watchdog in /opt/conda/lib/python3.7/site-packages (0.9.0)\n",
      "Requirement already satisfied: argh>=0.24.1 in /opt/conda/lib/python3.7/site-packages (from watchdog) (0.26.2)\n",
      "Requirement already satisfied: pathtools>=0.1.1 in /opt/conda/lib/python3.7/site-packages (from watchdog) (0.1.2)\n",
      "Requirement already satisfied: PyYAML>=3.10 in /opt/conda/lib/python3.7/site-packages (from watchdog) (5.1.1)\n"
     ]
    }
   ],
   "source": [
    "! pip install pywikibot\n",
    "! pip install mwparserfromhell\n",
    "! pip install watchdog"
   ]
  },
  {
   "cell_type": "code",
   "execution_count": 2,
   "metadata": {},
   "outputs": [],
   "source": [
    "import os\n",
    "\n",
    "os.environ['PYWIKIBOT_DIR'] = './wiki_reader/'"
   ]
  },
  {
   "cell_type": "code",
   "execution_count": null,
   "metadata": {},
   "outputs": [],
   "source": [
    "# import sparknlp\n",
    "# from pyspark.sql import SQLContext\n",
    "\n",
    "# spark = sparknlp.start()\n",
    "# sc = spark.sparkContext\n",
    "# sqlCtx = SQLContext(sc)"
   ]
  },
  {
   "cell_type": "code",
   "execution_count": 3,
   "metadata": {},
   "outputs": [],
   "source": [
    "from pyspark import SparkContext\n",
    "from pyspark.streaming import StreamingContext\n",
    "from pyspark.sql.functions import udf\n",
    "from pyspark.sql import SparkSession\n",
    "from pyspark.sql.types import StringType, StructField, StructType, ArrayType, LongType, DoubleType\n",
    "\n",
    "from spark_app.scorers import score_text\n",
    "from spark_app.spark_tools import SparkSentimentStreamer\n",
    "from pathlib import Path"
   ]
  },
  {
   "cell_type": "markdown",
   "metadata": {},
   "source": [
    "## Input"
   ]
  },
  {
   "cell_type": "code",
   "execution_count": 4,
   "metadata": {},
   "outputs": [],
   "source": [
    "request = 'peano'\n",
    "\n",
    "batch_size = 100\n",
    "limit = None\n",
    "preload_content = True\n",
    "is_category = False"
   ]
  },
  {
   "cell_type": "markdown",
   "metadata": {},
   "source": [
    "## Processing"
   ]
  },
  {
   "cell_type": "code",
   "execution_count": null,
   "metadata": {},
   "outputs": [],
   "source": [
    "# from ml.LogisticRegressionCached import readFromCache\n",
    "\n",
    "# (lrModel, pipelineModel) = readFromCache('./ml/train/')\n",
    "\n",
    "# def score_text_ml(text):\n",
    "#     df = spark.createDataFrame([(text, 2)], ['text', 'target'])\n",
    "#     df_transformed = pipelineModel.transform(df) # To fix\n",
    "#     predictions = lrModel.transform(df_transformed)\n",
    "#     predictions = predictions.select(['text', 'probability', 'prediction'])\n",
    "#     pd_predictions = predictions.toPandas()\n",
    "#     positive_probability = pd_predictions.iloc[0]['probability'][1]\n",
    "#     overall_probability = 2 * positive_probability - 1\n",
    "    \n",
    "#     return overall_probability"
   ]
  },
  {
   "cell_type": "code",
   "execution_count": 6,
   "metadata": {},
   "outputs": [
    {
     "data": {
      "application/vnd.jupyter.widget-view+json": {
       "model_id": "36c8bc8c395443d796c5daa9b8ab1f18",
       "version_major": 2,
       "version_minor": 0
      },
      "text/plain": [
       "IntProgress(value=0, description='Iter 0/1000', max=1000)"
      ]
     },
     "metadata": {},
     "output_type": "display_data"
    },
    {
     "data": {
      "text/plain": [
       "'Mean: 0.256'"
      ]
     },
     "metadata": {},
     "output_type": "display_data"
    },
    {
     "data": {
      "text/html": [
       "<div>\n",
       "<style scoped>\n",
       "    .dataframe tbody tr th:only-of-type {\n",
       "        vertical-align: middle;\n",
       "    }\n",
       "\n",
       "    .dataframe tbody tr th {\n",
       "        vertical-align: top;\n",
       "    }\n",
       "\n",
       "    .dataframe thead th {\n",
       "        text-align: right;\n",
       "    }\n",
       "</style>\n",
       "<table border=\"1\" class=\"dataframe\">\n",
       "  <thead>\n",
       "    <tr style=\"text-align: right;\">\n",
       "      <th></th>\n",
       "      <th>title</th>\n",
       "      <th>url</th>\n",
       "      <th>sentiment</th>\n",
       "    </tr>\n",
       "  </thead>\n",
       "  <tbody>\n",
       "    <tr>\n",
       "      <th>0</th>\n",
       "      <td>Page #1</td>\n",
       "      <td>url</td>\n",
       "      <td>0.352</td>\n",
       "    </tr>\n",
       "    <tr>\n",
       "      <th>1</th>\n",
       "      <td>Page #0</td>\n",
       "      <td>url</td>\n",
       "      <td>0.160</td>\n",
       "    </tr>\n",
       "  </tbody>\n",
       "</table>\n",
       "</div>"
      ],
      "text/plain": [
       "     title  url  sentiment\n",
       "0  Page #1  url      0.352\n",
       "1  Page #0  url      0.160"
      ]
     },
     "metadata": {},
     "output_type": "display_data"
    }
   ],
   "source": [
    "from ml.OutputProcessing import process_output_files\n",
    "\n",
    "# process_output_files('./responses/', 1000)"
   ]
  },
  {
   "cell_type": "code",
   "execution_count": null,
   "metadata": {},
   "outputs": [],
   "source": [
    "def spark_process(request, score_func):\n",
    "    spark = SparkSession.builder\\\n",
    "        .master(\"local[*]\")\\\n",
    "        .appName(\"NetworkWordCount\")\\\n",
    "        .getOrCreate()\n",
    "    \n",
    "    sc = spark.sparkContext\n",
    "    ssc = StreamingContext(sc, 1)\n",
    "    \n",
    "    dataInp = \"requests/\" + request\n",
    "    dataOut = \"responses/\" + request\n",
    "    Path(dataOut).mkdir(parents=True, exist_ok=True)\n",
    "    \n",
    "    streamer = SparkSentimentStreamer(sc, ssc, spark, score_func, dataInp, dataOut)\n",
    "    streamer.run()\n",
    "    streamer.stop()"
   ]
  },
  {
   "cell_type": "code",
   "execution_count": null,
   "metadata": {},
   "outputs": [],
   "source": [
    "from concurrent.futures import ThreadPoolExecutor\n",
    "import wiki_reader.reader as reader\n",
    "\n",
    "wrapper = lambda r,b,l,cat,cont: reader.query(r,batch_size=b,limit=l,is_category=cat,preload_content=cont)\n",
    "\n",
    "with ThreadPoolExecutor(max_workers=2) as e:\n",
    "    e.submit(wrapper, 'peano', batch_size, limit, is_category, preload_content)\n",
    "    e.submit(spark_process, 'peano', score_text)\n",
    "    # e.submit(process_output_files, './responses/', 1000)"
   ]
  }
 ],
 "metadata": {
  "kernelspec": {
   "display_name": "Python 3",
   "language": "python",
   "name": "python3"
  },
  "language_info": {
   "codemirror_mode": {
    "name": "ipython",
    "version": 3
   },
   "file_extension": ".py",
   "mimetype": "text/x-python",
   "name": "python",
   "nbconvert_exporter": "python",
   "pygments_lexer": "ipython3",
   "version": "3.7.3"
  }
 },
 "nbformat": 4,
 "nbformat_minor": 2
}
