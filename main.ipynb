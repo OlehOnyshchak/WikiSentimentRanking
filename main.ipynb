{
 "cells": [
  {
   "cell_type": "code",
   "execution_count": null,
   "metadata": {},
   "outputs": [],
   "source": [
    "import os\n",
    "\n",
    "os.environ['PYWIKIBOT_DIR'] = './wiki_reader/'\n",
    "\n",
    "import sparknlp\n",
    "from pyspark.sql import SQLContext\n",
    "\n",
    "spark = sparknlp.start()\n",
    "sc = spark.sparkContext\n",
    "sqlCtx = SQLContext(sc)"
   ]
  },
  {
   "cell_type": "code",
   "execution_count": null,
   "metadata": {},
   "outputs": [],
   "source": [
    "from ml.LogisticRegressionCached import readFromCache\n",
    "\n",
    "(lrModel, pipelineModel) = readFromCache('./ml/train/')\n",
    "\n",
    "def score_text(text):\n",
    "    df = spark.createDataFrame([(text, 2)], ['text', 'target'])\n",
    "    df_transformed = pipelineModel.transform(df) # To fix\n",
    "    predictions = lrModel.transform(df_transformed)\n",
    "    predictions = predictions.select(['text', 'probability', 'prediction'])\n",
    "    pd_predictions = predictions.toPandas()\n",
    "    positive_probability = pd_predictions.iloc[0]['probability'][1]\n",
    "    overall_probability = 2 * positive_probability - 1\n",
    "    \n",
    "    return overall_probability"
   ]
  },
  {
   "cell_type": "code",
   "execution_count": null,
   "metadata": {},
   "outputs": [],
   "source": [
    "from concurrent.futures import ThreadPoolExecutor\n",
    "import wiki_reader.reader as reader\n",
    "\n",
    "\n",
    "wrapper = lambda r,b,l,cat,cont: reader.query(r,batch_size=b,limit=l,is_category=cat,preload_content=cont)\n",
    "batch_size = 100\n",
    "limit = None\n",
    "preload_content = True\n",
    "with ThreadPoolExecutor(max_workers=2) as e:\n",
    "    e.submit(wrapper, 'peano', batch_size, limit, False, preload_content)"
   ]
  }
 ],
 "metadata": {
  "kernelspec": {
   "display_name": "Python 3",
   "language": "python",
   "name": "python3"
  },
  "language_info": {
   "codemirror_mode": {
    "name": "ipython",
    "version": 3
   },
   "file_extension": ".py",
   "mimetype": "text/x-python",
   "name": "python",
   "nbconvert_exporter": "python",
   "pygments_lexer": "ipython3",
   "version": "3.6.5"
  }
 },
 "nbformat": 4,
 "nbformat_minor": 2
}
