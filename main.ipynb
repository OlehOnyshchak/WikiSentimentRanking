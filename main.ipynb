{
 "cells": [
  {
   "cell_type": "code",
   "execution_count": 2,
   "metadata": {},
   "outputs": [],
   "source": [
    "import os\n",
    "\n",
    "os.environ['PYWIKIBOT_DIR'] = './wiki_reader/'"
   ]
  },
  {
   "cell_type": "code",
   "execution_count": null,
   "metadata": {},
   "outputs": [],
   "source": [
    "import sparknlp\n",
    "from pyspark.sql import SQLContext\n",
    "\n",
    "spark = sparknlp.start()\n",
    "sc = spark.sparkContext\n",
    "sqlCtx = SQLContext(sc)"
   ]
  },
  {
   "cell_type": "code",
   "execution_count": 19,
   "metadata": {},
   "outputs": [],
   "source": [
    "from pyspark import SparkContext\n",
    "from pyspark.streaming import StreamingContext\n",
    "from pyspark.sql.functions import udf\n",
    "from pyspark.sql import SparkSession\n",
    "from pyspark.sql.types import StringType, StructField, StructType, ArrayType, LongType, DoubleType\n",
    "\n",
    "from spark_app.scorers import score_text\n",
    "from spark_app.spark_tools import SparkSentimentStreamer\n",
    "from pathlib import Path"
   ]
  },
  {
   "cell_type": "markdown",
   "metadata": {},
   "source": [
    "## Input"
   ]
  },
  {
   "cell_type": "code",
   "execution_count": 21,
   "metadata": {},
   "outputs": [],
   "source": [
    "request = 'peano'\n",
    "\n",
    "batch_size = 100\n",
    "limit = None\n",
    "preload_content = True\n",
    "is_category = False"
   ]
  },
  {
   "cell_type": "markdown",
   "metadata": {},
   "source": [
    "## Processing"
   ]
  },
  {
   "cell_type": "code",
   "execution_count": null,
   "metadata": {},
   "outputs": [],
   "source": [
    "from ml.LogisticRegressionCached import readFromCache\n",
    "\n",
    "(lrModel, pipelineModel) = readFromCache('./ml/train/')\n",
    "\n",
    "def score_text_ml(text):\n",
    "    df = spark.createDataFrame([(text, 2)], ['text', 'target'])\n",
    "    df_transformed = pipelineModel.transform(df) # To fix\n",
    "    predictions = lrModel.transform(df_transformed)\n",
    "    predictions = predictions.select(['text', 'probability', 'prediction'])\n",
    "    pd_predictions = predictions.toPandas()\n",
    "    positive_probability = pd_predictions.iloc[0]['probability'][1]\n",
    "    overall_probability = 2 * positive_probability - 1\n",
    "    \n",
    "    return overall_probability"
   ]
  },
  {
   "cell_type": "code",
   "execution_count": 5,
   "metadata": {},
   "outputs": [],
   "source": [
    "def spark_process(request, score_func):\n",
    "    sc = SparkContext(\"local[*]\", \"NetworkWordCount\")\n",
    "    ssc = StreamingContext(sc, 1)\n",
    "    spark = SparkSession \\\n",
    "        .builder \\\n",
    "        .appName(\"SentimentWikiProcessor\") \\\n",
    "        .getOrCreate()\n",
    "    \n",
    "    dataInp = \"requests/\" + request\n",
    "    dataOut = \"responses/\" + request\n",
    "    Path(dataOut).mkdir(parents=True)\n",
    "    \n",
    "    streamer = SparkSentimentStreamer(sc, ssc, spark, score_func, dataInp, dataOut)\n",
    "    streamer.run()\n",
    "    streamer.stop()"
   ]
  },
  {
   "cell_type": "code",
   "execution_count": 4,
   "metadata": {},
   "outputs": [
    {
     "name": "stdout",
     "output_type": "stream",
     "text": [
      "Cleaning old data\n",
      "Dumped 100 pages | peano\n",
      "Dumped 200 pages | peano\n",
      "Dumped 300 pages | peano\n",
      "Dumped 400 pages | peano\n",
      "Dumped 491 pages | peano\n"
     ]
    }
   ],
   "source": [
    "from concurrent.futures import ThreadPoolExecutor\n",
    "import wiki_reader.reader as reader\n",
    "\n",
    "wrapper = lambda r,b,l,cat,cont: reader.query(r,batch_size=b,limit=l,is_category=cat,preload_content=cont)\n",
    "\n",
    "with ThreadPoolExecutor(max_workers=2) as e:\n",
    "    e.submit(wrapper, 'peano', batch_size, limit, is_category, preload_content)\n",
    "    e.submit(spark_process, 'peano', score_text)"
   ]
  }
 ],
 "metadata": {
  "kernelspec": {
   "display_name": "Python 3",
   "language": "python",
   "name": "python3"
  },
  "language_info": {
   "codemirror_mode": {
    "name": "ipython",
    "version": 3
   },
   "file_extension": ".py",
   "mimetype": "text/x-python",
   "name": "python",
   "nbconvert_exporter": "python",
   "pygments_lexer": "ipython3",
   "version": "3.7.1"
  }
 },
 "nbformat": 4,
 "nbformat_minor": 2
}
