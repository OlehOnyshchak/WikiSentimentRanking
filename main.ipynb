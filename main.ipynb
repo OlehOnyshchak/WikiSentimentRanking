{
 "cells": [
  {
   "cell_type": "code",
   "execution_count": null,
   "metadata": {},
   "outputs": [],
   "source": [
    "import os\n",
    "\n",
    "os.environ['PYWIKIBOT_DIR'] = './wiki_reader/'"
   ]
  },
  {
   "cell_type": "code",
   "execution_count": null,
   "metadata": {},
   "outputs": [],
   "source": [
    "from pyspark import SparkContext\n",
    "from pyspark.streaming import StreamingContext\n",
    "from pyspark.sql.functions import udf\n",
    "from pyspark.sql import SparkSession\n",
    "from pyspark.sql.types import StringType, StructField, StructType, ArrayType, LongType, DoubleType\n",
    "\n",
    "from spark_app.scorers import score_text, vader_scorer\n",
    "from spark_app.spark_tools import SparkSentimentStreamer\n",
    "from pathlib import Path\n",
    "\n",
    "from ml.OutputProcessing import process_output_files"
   ]
  },
  {
   "cell_type": "markdown",
   "metadata": {},
   "source": [
    "## Input"
   ]
  },
  {
   "cell_type": "code",
   "execution_count": null,
   "metadata": {},
   "outputs": [],
   "source": [
    "request = 'peano'\n",
    "\n",
    "batch_size = 100\n",
    "limit = None\n",
    "preload_content = True\n",
    "is_category = False\n",
    "debug_info = True\n",
    "\n",
    "wiki_page_dir = 'requests/'\n",
    "spark_results_dir = 'responses/'"
   ]
  },
  {
   "cell_type": "markdown",
   "metadata": {},
   "source": [
    "## Processing"
   ]
  },
  {
   "cell_type": "code",
   "execution_count": null,
   "metadata": {},
   "outputs": [],
   "source": [
    "# from ml.LogisticRegressionCached import readFromCache\n",
    "\n",
    "# (lrModel, pipelineModel) = readFromCache('./ml/train/')\n",
    "\n",
    "# def score_text_ml(text):\n",
    "#     df = spark.createDataFrame([(text, 2)], ['text', 'target'])\n",
    "#     df_transformed = pipelineModel.transform(df) # To fix\n",
    "#     predictions = lrModel.transform(df_transformed)\n",
    "#     predictions = predictions.select(['text', 'probability', 'prediction'])\n",
    "#     pd_predictions = predictions.toPandas()\n",
    "#     positive_probability = pd_predictions.iloc[0]['probability'][1]\n",
    "#     overall_probability = 2 * positive_probability - 1\n",
    "    \n",
    "#     return overall_probability"
   ]
  },
  {
   "cell_type": "code",
   "execution_count": null,
   "metadata": {},
   "outputs": [],
   "source": [
    "def cleanup(path):\n",
    "    path = Path(path)\n",
    "    path.mkdir(parents=True, exist_ok=True)\n",
    "    for x in path.iterdir():\n",
    "        if x.is_file():\n",
    "            x.unlink()\n",
    "        else:\n",
    "            cleanup(x)\n",
    "            x.rmdir()"
   ]
  },
  {
   "cell_type": "code",
   "execution_count": null,
   "metadata": {},
   "outputs": [],
   "source": [
    "def spark_process(request, score_func):\n",
    "    data_in = wiki_page_dir + request\n",
    "    data_out = spark_results_dir + request\n",
    "    cleanup(data_out)\n",
    "    \n",
    "    spark = SparkSession.builder\\\n",
    "        .master(\"local[*]\")\\\n",
    "        .appName(\"NetworkWordCount\")\\\n",
    "        .getOrCreate()\n",
    "    \n",
    "    sc = spark.sparkContext\n",
    "    ssc = StreamingContext(sc, 1)    \n",
    "    \n",
    "    streamer = SparkSentimentStreamer(sc, ssc, spark, score_func, data_in, data_out,debug_info=debug_info)\n",
    "    streamer.run()\n",
    "    streamer.stop()"
   ]
  },
  {
   "cell_type": "code",
   "execution_count": null,
   "metadata": {},
   "outputs": [],
   "source": [
    "from concurrent.futures import ThreadPoolExecutor\n",
    "import wiki_reader.reader as reader\n",
    "\n",
    "wiki_wrapper = lambda r,b,l,cat,cont: reader.query(r,out_dir=wiki_page_dir,batch_size=b,debug_info=debug_info,\n",
    "                                              limit=l,is_category=cat,preload_content=cont)\n",
    "\n",
    "query_size = reader.query_size(request)"
   ]
  },
  {
   "cell_type": "code",
   "execution_count": null,
   "metadata": {
    "scrolled": false
   },
   "outputs": [],
   "source": [
    "with ThreadPoolExecutor(max_workers=4) as e:\n",
    "    e.submit(wiki_wrapper, request, batch_size, limit, is_category, preload_content)\n",
    "    e.submit(spark_process, request, vader_scorer)\n",
    "#     e.submit(process_output_files, spark_results_dir + request, query_size)"
   ]
  },
  {
   "cell_type": "code",
   "execution_count": null,
   "metadata": {},
   "outputs": [],
   "source": []
  }
 ],
 "metadata": {
  "kernelspec": {
   "display_name": "Python 3",
   "language": "python",
   "name": "python3"
  },
  "language_info": {
   "codemirror_mode": {
    "name": "ipython",
    "version": 3
   },
   "file_extension": ".py",
   "mimetype": "text/x-python",
   "name": "python",
   "nbconvert_exporter": "python",
   "pygments_lexer": "ipython3",
   "version": "3.7.3"
  }
 },
 "nbformat": 4,
 "nbformat_minor": 2
}
