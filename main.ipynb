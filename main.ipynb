{
 "cells": [
  {
   "cell_type": "code",
   "execution_count": 2,
   "metadata": {},
   "outputs": [],
   "source": [
    "import os\n",
    "\n",
    "os.environ['PYWIKIBOT_DIR'] = './wiki_reader/'"
   ]
  },
  {
   "cell_type": "code",
   "execution_count": 7,
   "metadata": {},
   "outputs": [
    {
     "name": "stdout",
     "output_type": "stream",
     "text": [
      "Dumped 100 pages | peano\n",
      "Dumped 200 pages | peano\n",
      "Dumped 300 pages | peano\n",
      "Dumped 400 pages | peano\n",
      "Dumped 491 pages | peano\n"
     ]
    }
   ],
   "source": [
    "from concurrent.futures import ThreadPoolExecutor\n",
    "import wiki_reader.reader as reader\n",
    "\n",
    "\n",
    "wrapper = lambda r,b,l,cat,cont: reader.query(r,batch_size=b,limit=l,is_category=cat,preload_content=cont)\n",
    "batch_size = 100\n",
    "limit = None\n",
    "preload_content = True\n",
    "with ThreadPoolExecutor(max_workers=2) as e:\n",
    "    e.submit(wrapper, 'peano', batch_size, limit, False, preload_content)"
   ]
  }
 ],
 "metadata": {
  "kernelspec": {
   "display_name": "Python 3",
   "language": "python",
   "name": "python3"
  },
  "language_info": {
   "codemirror_mode": {
    "name": "ipython",
    "version": 3
   },
   "file_extension": ".py",
   "mimetype": "text/x-python",
   "name": "python",
   "nbconvert_exporter": "python",
   "pygments_lexer": "ipython3",
   "version": "3.6.5"
  }
 },
 "nbformat": 4,
 "nbformat_minor": 2
}
