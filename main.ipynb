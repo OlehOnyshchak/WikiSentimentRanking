{
 "cells": [
  {
   "cell_type": "code",
   "execution_count": 1,
   "metadata": {},
   "outputs": [
    {
     "name": "stdout",
     "output_type": "stream",
     "text": [
      "Collecting pywikibot\n",
      "\u001b[?25l  Downloading https://files.pythonhosted.org/packages/90/36/1956b5fe6b8130d61b60a8f5d56d27912f80e2f003d03468041ba319314e/pywikibot-3.0.20190430.tar.gz (515kB)\n",
      "\u001b[K     |████████████████████████████████| 522kB 587kB/s eta 0:00:01\n",
      "\u001b[?25hRequirement already satisfied: requests>=2.20.0 in /opt/conda/lib/python3.7/site-packages (from pywikibot) (2.22.0)\n",
      "Requirement already satisfied: chardet<3.1.0,>=3.0.2 in /opt/conda/lib/python3.7/site-packages (from requests>=2.20.0->pywikibot) (3.0.4)\n",
      "Requirement already satisfied: urllib3!=1.25.0,!=1.25.1,<1.26,>=1.21.1 in /opt/conda/lib/python3.7/site-packages (from requests>=2.20.0->pywikibot) (1.24.3)\n",
      "Requirement already satisfied: certifi>=2017.4.17 in /opt/conda/lib/python3.7/site-packages (from requests>=2.20.0->pywikibot) (2019.6.16)\n",
      "Requirement already satisfied: idna<2.9,>=2.5 in /opt/conda/lib/python3.7/site-packages (from requests>=2.20.0->pywikibot) (2.8)\n",
      "Building wheels for collected packages: pywikibot\n",
      "  Building wheel for pywikibot (setup.py) ... \u001b[?25ldone\n",
      "\u001b[?25h  Stored in directory: /home/jovyan/.cache/pip/wheels/6c/07/84/ba6645f74fe204adce4ec9a49365afdc5c526f1250691c5e41\n",
      "Successfully built pywikibot\n",
      "Installing collected packages: pywikibot\n",
      "Successfully installed pywikibot-3.0.dev0\n",
      "Collecting mwparserfromhell\n",
      "\u001b[?25l  Downloading https://files.pythonhosted.org/packages/23/03/4fb04da533c7e237c0104151c028d8bff856293d34e51d208c529696fb79/mwparserfromhell-0.5.4.tar.gz (135kB)\n",
      "\u001b[K     |████████████████████████████████| 143kB 638kB/s eta 0:00:01\n",
      "\u001b[?25hBuilding wheels for collected packages: mwparserfromhell\n",
      "  Building wheel for mwparserfromhell (setup.py) ... \u001b[?25ldone\n",
      "\u001b[?25h  Stored in directory: /home/jovyan/.cache/pip/wheels/2a/76/d5/7088b941df3b362c45dd7912dd05314bc034751ec9cbca9a75\n",
      "Successfully built mwparserfromhell\n",
      "Installing collected packages: mwparserfromhell\n",
      "Successfully installed mwparserfromhell-0.5.4\n",
      "Collecting watchdog\n",
      "\u001b[?25l  Downloading https://files.pythonhosted.org/packages/bb/e3/5a55d48a29300160779f0a0d2776d17c1b762a2039b36de528b093b87d5b/watchdog-0.9.0.tar.gz (85kB)\n",
      "\u001b[K     |████████████████████████████████| 92kB 867kB/s eta 0:00:01\n",
      "\u001b[?25hRequirement already satisfied: PyYAML>=3.10 in /opt/conda/lib/python3.7/site-packages (from watchdog) (5.1.1)\n",
      "Collecting argh>=0.24.1 (from watchdog)\n",
      "  Downloading https://files.pythonhosted.org/packages/06/1c/e667a7126f0b84aaa1c56844337bf0ac12445d1beb9c8a6199a7314944bf/argh-0.26.2-py2.py3-none-any.whl\n",
      "Collecting pathtools>=0.1.1 (from watchdog)\n",
      "  Downloading https://files.pythonhosted.org/packages/e7/7f/470d6fcdf23f9f3518f6b0b76be9df16dcc8630ad409947f8be2eb0ed13a/pathtools-0.1.2.tar.gz\n",
      "Building wheels for collected packages: watchdog, pathtools\n",
      "  Building wheel for watchdog (setup.py) ... \u001b[?25ldone\n",
      "\u001b[?25h  Stored in directory: /home/jovyan/.cache/pip/wheels/61/1d/d0/04cfe495619be2095eb8d89a31c42adb4e42b76495bc8f784c\n",
      "  Building wheel for pathtools (setup.py) ... \u001b[?25ldone\n",
      "\u001b[?25h  Stored in directory: /home/jovyan/.cache/pip/wheels/0b/04/79/c3b0c3a0266a3cb4376da31e5bfe8bba0c489246968a68e843\n",
      "Successfully built watchdog pathtools\n",
      "Installing collected packages: argh, pathtools, watchdog\n",
      "Successfully installed argh-0.26.2 pathtools-0.1.2 watchdog-0.9.0\n"
     ]
    }
   ],
   "source": [
    "! pip install pywikibot\n",
    "! pip install mwparserfromhell\n",
    "! pip install watchdog"
   ]
  },
  {
   "cell_type": "code",
   "execution_count": 2,
   "metadata": {},
   "outputs": [],
   "source": [
    "import os\n",
    "\n",
    "os.environ['PYWIKIBOT_DIR'] = './wiki_reader/'"
   ]
  },
  {
   "cell_type": "code",
   "execution_count": 3,
   "metadata": {},
   "outputs": [],
   "source": [
    "# import sparknlp\n",
    "# from pyspark.sql import SQLContext\n",
    "\n",
    "# spark = sparknlp.start()\n",
    "# sc = spark.sparkContext\n",
    "# sqlCtx = SQLContext(sc)"
   ]
  },
  {
   "cell_type": "code",
   "execution_count": 4,
   "metadata": {},
   "outputs": [],
   "source": [
    "from pyspark import SparkContext\n",
    "from pyspark.streaming import StreamingContext\n",
    "from pyspark.sql.functions import udf\n",
    "from pyspark.sql import SparkSession\n",
    "from pyspark.sql.types import StringType, StructField, StructType, ArrayType, LongType, DoubleType\n",
    "\n",
    "from spark_app.scorers import score_text\n",
    "from spark_app.spark_tools import SparkSentimentStreamer\n",
    "from pathlib import Path"
   ]
  },
  {
   "cell_type": "markdown",
   "metadata": {},
   "source": [
    "## Input"
   ]
  },
  {
   "cell_type": "code",
   "execution_count": 5,
   "metadata": {},
   "outputs": [],
   "source": [
    "request = 'peano'\n",
    "\n",
    "batch_size = 100\n",
    "limit = None\n",
    "preload_content = True\n",
    "is_category = False\n",
    "\n",
    "wiki_page_dir = 'requests/'\n",
    "spark_results_dir = 'responses/'"
   ]
  },
  {
   "cell_type": "markdown",
   "metadata": {},
   "source": [
    "## Processing"
   ]
  },
  {
   "cell_type": "code",
   "execution_count": 6,
   "metadata": {},
   "outputs": [],
   "source": [
    "# from ml.LogisticRegressionCached import readFromCache\n",
    "\n",
    "# (lrModel, pipelineModel) = readFromCache('./ml/train/')\n",
    "\n",
    "# def score_text_ml(text):\n",
    "#     df = spark.createDataFrame([(text, 2)], ['text', 'target'])\n",
    "#     df_transformed = pipelineModel.transform(df) # To fix\n",
    "#     predictions = lrModel.transform(df_transformed)\n",
    "#     predictions = predictions.select(['text', 'probability', 'prediction'])\n",
    "#     pd_predictions = predictions.toPandas()\n",
    "#     positive_probability = pd_predictions.iloc[0]['probability'][1]\n",
    "#     overall_probability = 2 * positive_probability - 1\n",
    "    \n",
    "#     return overall_probability"
   ]
  },
  {
   "cell_type": "code",
   "execution_count": 7,
   "metadata": {},
   "outputs": [],
   "source": [
    "from ml.OutputProcessing import process_output_files\n",
    "\n",
    "# process_output_files('./responses/', 1000)"
   ]
  },
  {
   "cell_type": "code",
   "execution_count": 8,
   "metadata": {},
   "outputs": [],
   "source": [
    "def spark_process(request, score_func):\n",
    "    spark = SparkSession.builder\\\n",
    "        .master(\"local[*]\")\\\n",
    "        .appName(\"NetworkWordCount\")\\\n",
    "        .getOrCreate()\n",
    "    \n",
    "    sc = spark.sparkContext\n",
    "    ssc = StreamingContext(sc, 1)\n",
    "    \n",
    "    dataInp = wiki_page_dir + request\n",
    "    dataOut = spark_results_dir + request\n",
    "    Path(dataOut).mkdir(parents=True, exist_ok=True)\n",
    "    \n",
    "    streamer = SparkSentimentStreamer(sc, ssc, spark, score_func, dataInp, dataOut)\n",
    "    streamer.run()\n",
    "    streamer.stop()"
   ]
  },
  {
   "cell_type": "code",
   "execution_count": 9,
   "metadata": {},
   "outputs": [
    {
     "name": "stdout",
     "output_type": "stream",
     "text": [
      "Cleaning old data\n",
      "Downloading...\n",
      "Dumped 100 pages | peano\n",
      "Dumped 200 pages | peano\n",
      "+--------------------+--------------------+--------------------+\n",
      "|                text|               title|                 url|\n",
      "+--------------------+--------------------+--------------------+\n",
      "|0 (zero) is both ...|                   0|https://en.wikipe...|\n",
      "|1 (one, also call...|                   1|https://en.wikipe...|\n",
      "|thumb|right| Flow...|           Algorithm|https://en.wikipe...|\n",
      "|thumb|right|Giuse...|Arithmetices prin...|https://en.wikipe...|\n",
      "|In mathematics, a...|    Axiomatic system|https://en.wikipe...|\n",
      "+--------------------+--------------------+--------------------+\n",
      "only showing top 5 rows\n",
      "\n",
      "Dumped 300 pages | peano\n",
      "Dumped 400 pages | peano\n",
      "+--------------------+--------------------+--------------------+\n",
      "|                text|               title|                 url|\n",
      "+--------------------+--------------------+--------------------+\n",
      "|In mathematics, a...| Algebraic structure|https://en.wikipe...|\n",
      "|Alonzo Church (Ju...|       Alonzo Church|https://en.wikipe...|\n",
      "|Angelo Genocchi (...|     Angelo Genocchi|https://en.wikipe...|\n",
      "|thumb|513x513px|A...|Arithmetical hier...|https://en.wikipe...|\n",
      "|Bounded arithmeti...|  Bounded arithmetic|https://en.wikipe...|\n",
      "+--------------------+--------------------+--------------------+\n",
      "only showing top 5 rows\n",
      "\n",
      "+--------------------+--------------------+--------------------+\n",
      "|                text|               title|                 url|\n",
      "+--------------------+--------------------+--------------------+\n",
      "|The year 1889 in ...|     1889 in science|https://en.wikipe...|\n",
      "|A Course of Moder...|A Course of Moder...|https://en.wikipe...|\n",
      "|thumb|right|An il...|     Adam7 algorithm|https://en.wikipe...|\n",
      "|Agda is a depende...|Agda (programming...|https://en.wikipe...|\n",
      "|Apostolos K. Doxi...|  Apostolos Doxiadis|https://en.wikipe...|\n",
      "+--------------------+--------------------+--------------------+\n",
      "only showing top 5 rows\n",
      "\n",
      "Dumped 491 pages | peano\n",
      "+--------------------+--------------------+--------------------+\n",
      "|                text|               title|                 url|\n",
      "+--------------------+--------------------+--------------------+\n",
      "|The 19th century ...|19th century in s...|https://en.wikipe...|\n",
      "|The 2019–20 seaso...|2019–20 Unión de ...|https://en.wikipe...|\n",
      "|Alexander Bellos ...|         Alex Bellos|https://en.wikipe...|\n",
      "|Alexander Donipha...|Alexander Donipha...|https://en.wikipe...|\n",
      "|Alfred Tarski (; ...|       Alfred Tarski|https://en.wikipe...|\n",
      "+--------------------+--------------------+--------------------+\n",
      "only showing top 5 rows\n",
      "\n",
      "+--------------------+--------------------+--------------------+\n",
      "|                text|               title|                 url|\n",
      "+--------------------+--------------------+--------------------+\n",
      "|Science advanced ...|20th century in s...|https://en.wikipe...|\n",
      "|In a foundational...|Brouwer–Hilbert c...|https://en.wikipe...|\n",
      "|Canillo () is one...|             Canillo|https://en.wikipe...|\n",
      "|thumb|220px|Colin...|       Colin McLarty|https://en.wikipe...|\n",
      "|A counter machine...|     Counter machine|https://en.wikipe...|\n",
      "+--------------------+--------------------+--------------------+\n",
      "only showing top 5 rows\n",
      "\n"
     ]
    }
   ],
   "source": [
    "from concurrent.futures import ThreadPoolExecutor\n",
    "import wiki_reader.reader as reader\n",
    "\n",
    "wiki_wrapper = lambda r,b,l,cat,cont: reader.query(r,out_dir=wiki_page_dir,batch_size=b,\n",
    "                                              limit=l,is_category=cat,preload_content=cont)\n",
    "\n",
    "with ThreadPoolExecutor(max_workers=2) as e:\n",
    "    e.submit(wiki_wrapper, request, batch_size, limit, is_category, preload_content)\n",
    "    e.submit(spark_process, request, score_text)\n",
    "    # e.submit(process_output_files, './responses/', 1000)"
   ]
  }
 ],
 "metadata": {
  "kernelspec": {
   "display_name": "Python 3",
   "language": "python",
   "name": "python3"
  },
  "language_info": {
   "codemirror_mode": {
    "name": "ipython",
    "version": 3
   },
   "file_extension": ".py",
   "mimetype": "text/x-python",
   "name": "python",
   "nbconvert_exporter": "python",
   "pygments_lexer": "ipython3",
   "version": "3.7.3"
  }
 },
 "nbformat": 4,
 "nbformat_minor": 2
}
