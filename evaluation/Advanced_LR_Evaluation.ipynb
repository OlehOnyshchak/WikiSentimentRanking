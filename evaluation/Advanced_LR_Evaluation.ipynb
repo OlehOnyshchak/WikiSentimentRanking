{
 "cells": [
  {
   "cell_type": "code",
   "execution_count": 34,
   "metadata": {},
   "outputs": [],
   "source": [
    "import pandas as pd\n",
    "import os\n",
    "import json\n",
    "from nltk import tokenize\n",
    "\n",
    "import numpy as np\n",
    "\n",
    "import sparknlp\n",
    "from pyspark.sql import SQLContext\n",
    "\n",
    "import sys\n",
    "# dirty hack\n",
    "sys.path.insert(0, '../ml/')\n",
    "from LogisticRegressionCached import readFromCache\n",
    "\n",
    "\n"
   ]
  },
  {
   "cell_type": "code",
   "execution_count": 4,
   "metadata": {},
   "outputs": [],
   "source": [
    "spark = sparknlp.start()\n",
    "sc = spark.sparkContext\n",
    "sqlCtx = SQLContext(sc)"
   ]
  },
  {
   "cell_type": "code",
   "execution_count": 27,
   "metadata": {},
   "outputs": [],
   "source": [
    "def scorer_wrapper(f):\n",
    "    def score_by_sentence(text):\n",
    "        sentences = tokenize.sent_tokenize(text)\n",
    "        return np.mean([ f(s) for s in sentences])\n",
    "    return score_by_sentence"
   ]
  },
  {
   "cell_type": "code",
   "execution_count": 28,
   "metadata": {
    "scrolled": true
   },
   "outputs": [
    {
     "name": "stdout",
     "output_type": "stream",
     "text": [
      "models loaded\n"
     ]
    }
   ],
   "source": [
    "(lrModel, pipelineModel) = readFromCache('../ml/train/')\n",
    "\n",
    "@scorer_wrapper\n",
    "def score_text(text):\n",
    "    df = spark.createDataFrame([(text, 2)], ['text', 'target'])\n",
    "    df_transformed = pipelineModel.transform(df) # To fix\n",
    "    predictions = lrModel.transform(df_transformed)\n",
    "    predictions = predictions.select(['text', 'probability', 'prediction'])\n",
    "    pd_predictions = predictions.toPandas()\n",
    "    positive_probability = pd_predictions.iloc[0]['probability'][1]\n",
    "    overall_probability = 2 * positive_probability - 1\n",
    "    \n",
    "    return overall_probability"
   ]
  },
  {
   "cell_type": "markdown",
   "metadata": {},
   "source": [
    "## 1. Vocabulary-based sentiment scoring will be scored for the query \"Amazon Company\"\n",
    "## Positive and negative paragraphs are defined"
   ]
  },
  {
   "cell_type": "code",
   "execution_count": 29,
   "metadata": {},
   "outputs": [
    {
     "data": {
      "text/plain": [
       "\"Amazon Company is very bad. And author doesn't provide any justification. People don't like Amazon Company. \\nSome even hate Amazon Company, because Amazon Company is evil. Some groups believe Amazon Company is their main enemy.\\n\""
      ]
     },
     "execution_count": 29,
     "metadata": {},
     "output_type": "execute_result"
    }
   ],
   "source": [
    "query = \"Amazon Company\"\n",
    "\n",
    "negative_paragraph = \"\"\"{0} is very bad. And author doesn't provide any justification. People don't like {0}. \n",
    "Some even hate {0}, because {0} is evil. Some groups believe {0} is their main enemy.\n",
    "\"\"\".format(query)\n",
    "\n",
    "positive_paragraph = \"\"\"{0} is very good. And author doesn't provide any justification. People like {0}. \n",
    "Some even love {0}, because {0} is honest. Some groups believe {0} is their best friend.\"\"\".format(query)\n",
    "\n",
    "negative_paragraph"
   ]
  },
  {
   "cell_type": "markdown",
   "metadata": {},
   "source": [
    "## 2. For the sake of simplicity top 5 relevant articles were retrieved.\n",
    "## These articles are read."
   ]
  },
  {
   "cell_type": "code",
   "execution_count": 30,
   "metadata": {},
   "outputs": [],
   "source": [
    "folder = \"./amazon_company/\"\n",
    "files = os.listdir(folder)"
   ]
  },
  {
   "cell_type": "code",
   "execution_count": 31,
   "metadata": {},
   "outputs": [],
   "source": [
    "df = pd.DataFrame(index=list(range(0,len(files))), columns=['title', 'link', 'text'])"
   ]
  },
  {
   "cell_type": "code",
   "execution_count": 32,
   "metadata": {},
   "outputs": [],
   "source": [
    "for i, filename in enumerate(files):\n",
    "    with open(folder + filename, 'r') as f:\n",
    "        data = json.load(f)\n",
    "        df.loc[i] = data['title'], data['link'], data['text']"
   ]
  },
  {
   "cell_type": "markdown",
   "metadata": {},
   "source": [
    "## 3. Then these articles are scored and ranking is built"
   ]
  },
  {
   "cell_type": "code",
   "execution_count": 35,
   "metadata": {},
   "outputs": [
    {
     "data": {
      "text/html": [
       "<div>\n",
       "<style scoped>\n",
       "    .dataframe tbody tr th:only-of-type {\n",
       "        vertical-align: middle;\n",
       "    }\n",
       "\n",
       "    .dataframe tbody tr th {\n",
       "        vertical-align: top;\n",
       "    }\n",
       "\n",
       "    .dataframe thead th {\n",
       "        text-align: right;\n",
       "    }\n",
       "</style>\n",
       "<table border=\"1\" class=\"dataframe\">\n",
       "  <thead>\n",
       "    <tr style=\"text-align: right;\">\n",
       "      <th></th>\n",
       "      <th>title</th>\n",
       "      <th>link</th>\n",
       "      <th>text</th>\n",
       "      <th>score</th>\n",
       "    </tr>\n",
       "  </thead>\n",
       "  <tbody>\n",
       "    <tr>\n",
       "      <th>1</th>\n",
       "      <td>Amazon (company)</td>\n",
       "      <td>https://en.wikipedia.org/wiki/Amazon_(company)</td>\n",
       "      <td>Amazon (company)\\nAmazon.com, Inc.[6] (/ˈæməzɒ...</td>\n",
       "      <td>0.428397</td>\n",
       "    </tr>\n",
       "    <tr>\n",
       "      <th>2</th>\n",
       "      <td>Prime Video</td>\n",
       "      <td>https://en.wikipedia.org/wiki/Prime_Video</td>\n",
       "      <td>Prime Video, also marketed as Amazon Prime Vid...</td>\n",
       "      <td>0.355471</td>\n",
       "    </tr>\n",
       "    <tr>\n",
       "      <th>0</th>\n",
       "      <td>History of Amazon</td>\n",
       "      <td>https://en.wikipedia.org/wiki/History_of_Amazon</td>\n",
       "      <td>Founding\\nThe company was founded as a result ...</td>\n",
       "      <td>0.321414</td>\n",
       "    </tr>\n",
       "    <tr>\n",
       "      <th>3</th>\n",
       "      <td>Amazon Web Services</td>\n",
       "      <td>https://en.wikipedia.org/wiki/Amazon_Web_Services</td>\n",
       "      <td>Amazon Web Services (AWS) is a subsidiary of A...</td>\n",
       "      <td>0.193755</td>\n",
       "    </tr>\n",
       "    <tr>\n",
       "      <th>4</th>\n",
       "      <td>Amazon Prime</td>\n",
       "      <td>https://en.wikipedia.org/wiki/Amazon_Prime</td>\n",
       "      <td>Amazon Prime is a paid subscription service of...</td>\n",
       "      <td>0.177118</td>\n",
       "    </tr>\n",
       "  </tbody>\n",
       "</table>\n",
       "</div>"
      ],
      "text/plain": [
       "                 title                                               link  \\\n",
       "1     Amazon (company)     https://en.wikipedia.org/wiki/Amazon_(company)   \n",
       "2          Prime Video          https://en.wikipedia.org/wiki/Prime_Video   \n",
       "0    History of Amazon    https://en.wikipedia.org/wiki/History_of_Amazon   \n",
       "3  Amazon Web Services  https://en.wikipedia.org/wiki/Amazon_Web_Services   \n",
       "4         Amazon Prime         https://en.wikipedia.org/wiki/Amazon_Prime   \n",
       "\n",
       "                                                text     score  \n",
       "1  Amazon (company)\\nAmazon.com, Inc.[6] (/ˈæməzɒ...  0.428397  \n",
       "2  Prime Video, also marketed as Amazon Prime Vid...  0.355471  \n",
       "0  Founding\\nThe company was founded as a result ...  0.321414  \n",
       "3  Amazon Web Services (AWS) is a subsidiary of A...  0.193755  \n",
       "4  Amazon Prime is a paid subscription service of...  0.177118  "
      ]
     },
     "execution_count": 35,
     "metadata": {},
     "output_type": "execute_result"
    }
   ],
   "source": [
    "ranking = df.copy()\n",
    "ranking['score'] = df['text'].apply(score_text)\n",
    "ranking = ranking.sort_values(by='score', ascending=False)\n",
    "ranking"
   ]
  },
  {
   "cell_type": "markdown",
   "metadata": {},
   "source": [
    "## 4. Article with median score is choosen for reference"
   ]
  },
  {
   "cell_type": "code",
   "execution_count": 36,
   "metadata": {},
   "outputs": [
    {
     "data": {
      "text/plain": [
       "title                                    History of Amazon\n",
       "link       https://en.wikipedia.org/wiki/History_of_Amazon\n",
       "text     Founding\\nThe company was founded as a result ...\n",
       "score                                             0.321414\n",
       "Name: 0, dtype: object"
      ]
     },
     "execution_count": 36,
     "metadata": {},
     "output_type": "execute_result"
    }
   ],
   "source": [
    "reference = ranking.iloc[len(files)//2]\n",
    "reference"
   ]
  },
  {
   "cell_type": "markdown",
   "metadata": {},
   "source": [
    "## 5. Two copies are added with positive/negative editions in article text"
   ]
  },
  {
   "cell_type": "code",
   "execution_count": 37,
   "metadata": {},
   "outputs": [
    {
     "data": {
      "text/html": [
       "<div>\n",
       "<style scoped>\n",
       "    .dataframe tbody tr th:only-of-type {\n",
       "        vertical-align: middle;\n",
       "    }\n",
       "\n",
       "    .dataframe tbody tr th {\n",
       "        vertical-align: top;\n",
       "    }\n",
       "\n",
       "    .dataframe thead th {\n",
       "        text-align: right;\n",
       "    }\n",
       "</style>\n",
       "<table border=\"1\" class=\"dataframe\">\n",
       "  <thead>\n",
       "    <tr style=\"text-align: right;\">\n",
       "      <th></th>\n",
       "      <th>title</th>\n",
       "      <th>link</th>\n",
       "      <th>text</th>\n",
       "    </tr>\n",
       "  </thead>\n",
       "  <tbody>\n",
       "    <tr>\n",
       "      <th>0</th>\n",
       "      <td>History of Amazon</td>\n",
       "      <td>https://en.wikipedia.org/wiki/History_of_Amazon</td>\n",
       "      <td>Founding\\nThe company was founded as a result ...</td>\n",
       "    </tr>\n",
       "    <tr>\n",
       "      <th>1</th>\n",
       "      <td>Amazon (company)</td>\n",
       "      <td>https://en.wikipedia.org/wiki/Amazon_(company)</td>\n",
       "      <td>Amazon (company)\\nAmazon.com, Inc.[6] (/ˈæməzɒ...</td>\n",
       "    </tr>\n",
       "    <tr>\n",
       "      <th>2</th>\n",
       "      <td>Prime Video</td>\n",
       "      <td>https://en.wikipedia.org/wiki/Prime_Video</td>\n",
       "      <td>Prime Video, also marketed as Amazon Prime Vid...</td>\n",
       "    </tr>\n",
       "    <tr>\n",
       "      <th>3</th>\n",
       "      <td>Amazon Web Services</td>\n",
       "      <td>https://en.wikipedia.org/wiki/Amazon_Web_Services</td>\n",
       "      <td>Amazon Web Services (AWS) is a subsidiary of A...</td>\n",
       "    </tr>\n",
       "    <tr>\n",
       "      <th>4</th>\n",
       "      <td>Amazon Prime</td>\n",
       "      <td>https://en.wikipedia.org/wiki/Amazon_Prime</td>\n",
       "      <td>Amazon Prime is a paid subscription service of...</td>\n",
       "    </tr>\n",
       "  </tbody>\n",
       "</table>\n",
       "</div>"
      ],
      "text/plain": [
       "                 title                                               link  \\\n",
       "0    History of Amazon    https://en.wikipedia.org/wiki/History_of_Amazon   \n",
       "1     Amazon (company)     https://en.wikipedia.org/wiki/Amazon_(company)   \n",
       "2          Prime Video          https://en.wikipedia.org/wiki/Prime_Video   \n",
       "3  Amazon Web Services  https://en.wikipedia.org/wiki/Amazon_Web_Services   \n",
       "4         Amazon Prime         https://en.wikipedia.org/wiki/Amazon_Prime   \n",
       "\n",
       "                                                text  \n",
       "0  Founding\\nThe company was founded as a result ...  \n",
       "1  Amazon (company)\\nAmazon.com, Inc.[6] (/ˈæməzɒ...  \n",
       "2  Prime Video, also marketed as Amazon Prime Vid...  \n",
       "3  Amazon Web Services (AWS) is a subsidiary of A...  \n",
       "4  Amazon Prime is a paid subscription service of...  "
      ]
     },
     "execution_count": 37,
     "metadata": {},
     "output_type": "execute_result"
    }
   ],
   "source": [
    "df_extended = df.copy()\n",
    "df_extended"
   ]
  },
  {
   "cell_type": "code",
   "execution_count": 38,
   "metadata": {},
   "outputs": [
    {
     "data": {
      "text/html": [
       "<div>\n",
       "<style scoped>\n",
       "    .dataframe tbody tr th:only-of-type {\n",
       "        vertical-align: middle;\n",
       "    }\n",
       "\n",
       "    .dataframe tbody tr th {\n",
       "        vertical-align: top;\n",
       "    }\n",
       "\n",
       "    .dataframe thead th {\n",
       "        text-align: right;\n",
       "    }\n",
       "</style>\n",
       "<table border=\"1\" class=\"dataframe\">\n",
       "  <thead>\n",
       "    <tr style=\"text-align: right;\">\n",
       "      <th></th>\n",
       "      <th>title</th>\n",
       "      <th>link</th>\n",
       "      <th>text</th>\n",
       "    </tr>\n",
       "  </thead>\n",
       "  <tbody>\n",
       "    <tr>\n",
       "      <th>0</th>\n",
       "      <td>History of Amazon</td>\n",
       "      <td>https://en.wikipedia.org/wiki/History_of_Amazon</td>\n",
       "      <td>Founding\\nThe company was founded as a result ...</td>\n",
       "    </tr>\n",
       "    <tr>\n",
       "      <th>1</th>\n",
       "      <td>Amazon (company)</td>\n",
       "      <td>https://en.wikipedia.org/wiki/Amazon_(company)</td>\n",
       "      <td>Amazon (company)\\nAmazon.com, Inc.[6] (/ˈæməzɒ...</td>\n",
       "    </tr>\n",
       "    <tr>\n",
       "      <th>2</th>\n",
       "      <td>Prime Video</td>\n",
       "      <td>https://en.wikipedia.org/wiki/Prime_Video</td>\n",
       "      <td>Prime Video, also marketed as Amazon Prime Vid...</td>\n",
       "    </tr>\n",
       "    <tr>\n",
       "      <th>3</th>\n",
       "      <td>Amazon Web Services</td>\n",
       "      <td>https://en.wikipedia.org/wiki/Amazon_Web_Services</td>\n",
       "      <td>Amazon Web Services (AWS) is a subsidiary of A...</td>\n",
       "    </tr>\n",
       "    <tr>\n",
       "      <th>4</th>\n",
       "      <td>Amazon Prime</td>\n",
       "      <td>https://en.wikipedia.org/wiki/Amazon_Prime</td>\n",
       "      <td>Amazon Prime is a paid subscription service of...</td>\n",
       "    </tr>\n",
       "    <tr>\n",
       "      <th>0</th>\n",
       "      <td>neg_edit</td>\n",
       "      <td></td>\n",
       "      <td>Founding\\nThe company was founded as a result ...</td>\n",
       "    </tr>\n",
       "    <tr>\n",
       "      <th>1</th>\n",
       "      <td>pos_edit</td>\n",
       "      <td></td>\n",
       "      <td>Founding\\nThe company was founded as a result ...</td>\n",
       "    </tr>\n",
       "  </tbody>\n",
       "</table>\n",
       "</div>"
      ],
      "text/plain": [
       "                 title                                               link  \\\n",
       "0    History of Amazon    https://en.wikipedia.org/wiki/History_of_Amazon   \n",
       "1     Amazon (company)     https://en.wikipedia.org/wiki/Amazon_(company)   \n",
       "2          Prime Video          https://en.wikipedia.org/wiki/Prime_Video   \n",
       "3  Amazon Web Services  https://en.wikipedia.org/wiki/Amazon_Web_Services   \n",
       "4         Amazon Prime         https://en.wikipedia.org/wiki/Amazon_Prime   \n",
       "0             neg_edit                                                      \n",
       "1             pos_edit                                                      \n",
       "\n",
       "                                                text  \n",
       "0  Founding\\nThe company was founded as a result ...  \n",
       "1  Amazon (company)\\nAmazon.com, Inc.[6] (/ˈæməzɒ...  \n",
       "2  Prime Video, also marketed as Amazon Prime Vid...  \n",
       "3  Amazon Web Services (AWS) is a subsidiary of A...  \n",
       "4  Amazon Prime is a paid subscription service of...  \n",
       "0  Founding\\nThe company was founded as a result ...  \n",
       "1  Founding\\nThe company was founded as a result ...  "
      ]
     },
     "execution_count": 38,
     "metadata": {},
     "output_type": "execute_result"
    }
   ],
   "source": [
    "df_extended = df_extended.append(pd.DataFrame(data={'title':['neg_edit', 'pos_edit'],\n",
    "                                     'link':['',''], \n",
    "                                     'text':[reference['text'] + negative_paragraph,\n",
    "                                            reference['text'] + positive_paragraph]}))\n",
    "df_extended"
   ]
  },
  {
   "cell_type": "markdown",
   "metadata": {},
   "source": [
    "## 6. New ranking is built"
   ]
  },
  {
   "cell_type": "code",
   "execution_count": 39,
   "metadata": {},
   "outputs": [
    {
     "data": {
      "text/html": [
       "<div>\n",
       "<style scoped>\n",
       "    .dataframe tbody tr th:only-of-type {\n",
       "        vertical-align: middle;\n",
       "    }\n",
       "\n",
       "    .dataframe tbody tr th {\n",
       "        vertical-align: top;\n",
       "    }\n",
       "\n",
       "    .dataframe thead th {\n",
       "        text-align: right;\n",
       "    }\n",
       "</style>\n",
       "<table border=\"1\" class=\"dataframe\">\n",
       "  <thead>\n",
       "    <tr style=\"text-align: right;\">\n",
       "      <th></th>\n",
       "      <th>title</th>\n",
       "      <th>link</th>\n",
       "      <th>text</th>\n",
       "      <th>score</th>\n",
       "    </tr>\n",
       "  </thead>\n",
       "  <tbody>\n",
       "    <tr>\n",
       "      <th>1</th>\n",
       "      <td>Amazon (company)</td>\n",
       "      <td>https://en.wikipedia.org/wiki/Amazon_(company)</td>\n",
       "      <td>Amazon (company)\\nAmazon.com, Inc.[6] (/ˈæməzɒ...</td>\n",
       "      <td>0.428397</td>\n",
       "    </tr>\n",
       "    <tr>\n",
       "      <th>2</th>\n",
       "      <td>Prime Video</td>\n",
       "      <td>https://en.wikipedia.org/wiki/Prime_Video</td>\n",
       "      <td>Prime Video, also marketed as Amazon Prime Vid...</td>\n",
       "      <td>0.355471</td>\n",
       "    </tr>\n",
       "    <tr>\n",
       "      <th>1</th>\n",
       "      <td>pos_edit</td>\n",
       "      <td></td>\n",
       "      <td>Founding\\nThe company was founded as a result ...</td>\n",
       "      <td>0.330284</td>\n",
       "    </tr>\n",
       "    <tr>\n",
       "      <th>0</th>\n",
       "      <td>History of Amazon</td>\n",
       "      <td>https://en.wikipedia.org/wiki/History_of_Amazon</td>\n",
       "      <td>Founding\\nThe company was founded as a result ...</td>\n",
       "      <td>0.321414</td>\n",
       "    </tr>\n",
       "    <tr>\n",
       "      <th>0</th>\n",
       "      <td>neg_edit</td>\n",
       "      <td></td>\n",
       "      <td>Founding\\nThe company was founded as a result ...</td>\n",
       "      <td>0.300001</td>\n",
       "    </tr>\n",
       "    <tr>\n",
       "      <th>3</th>\n",
       "      <td>Amazon Web Services</td>\n",
       "      <td>https://en.wikipedia.org/wiki/Amazon_Web_Services</td>\n",
       "      <td>Amazon Web Services (AWS) is a subsidiary of A...</td>\n",
       "      <td>0.193755</td>\n",
       "    </tr>\n",
       "    <tr>\n",
       "      <th>4</th>\n",
       "      <td>Amazon Prime</td>\n",
       "      <td>https://en.wikipedia.org/wiki/Amazon_Prime</td>\n",
       "      <td>Amazon Prime is a paid subscription service of...</td>\n",
       "      <td>0.177118</td>\n",
       "    </tr>\n",
       "  </tbody>\n",
       "</table>\n",
       "</div>"
      ],
      "text/plain": [
       "                 title                                               link  \\\n",
       "1     Amazon (company)     https://en.wikipedia.org/wiki/Amazon_(company)   \n",
       "2          Prime Video          https://en.wikipedia.org/wiki/Prime_Video   \n",
       "1             pos_edit                                                      \n",
       "0    History of Amazon    https://en.wikipedia.org/wiki/History_of_Amazon   \n",
       "0             neg_edit                                                      \n",
       "3  Amazon Web Services  https://en.wikipedia.org/wiki/Amazon_Web_Services   \n",
       "4         Amazon Prime         https://en.wikipedia.org/wiki/Amazon_Prime   \n",
       "\n",
       "                                                text     score  \n",
       "1  Amazon (company)\\nAmazon.com, Inc.[6] (/ˈæməzɒ...  0.428397  \n",
       "2  Prime Video, also marketed as Amazon Prime Vid...  0.355471  \n",
       "1  Founding\\nThe company was founded as a result ...  0.330284  \n",
       "0  Founding\\nThe company was founded as a result ...  0.321414  \n",
       "0  Founding\\nThe company was founded as a result ...  0.300001  \n",
       "3  Amazon Web Services (AWS) is a subsidiary of A...  0.193755  \n",
       "4  Amazon Prime is a paid subscription service of...  0.177118  "
      ]
     },
     "execution_count": 39,
     "metadata": {},
     "output_type": "execute_result"
    }
   ],
   "source": [
    "ranking = df_extended.copy()\n",
    "ranking['score'] = df_extended['text'].apply(score_text)\n",
    "ranking = ranking.sort_values(by='score', ascending=False)\n",
    "ranking"
   ]
  },
  {
   "cell_type": "markdown",
   "metadata": {},
   "source": [
    "## 7. We observe, that edited articles are ranked as expected: negative is lower, positive is higher in the ranking."
   ]
  }
 ],
 "metadata": {
  "kernelspec": {
   "display_name": "Python 3",
   "language": "python",
   "name": "python3"
  },
  "language_info": {
   "codemirror_mode": {
    "name": "ipython",
    "version": 3
   },
   "file_extension": ".py",
   "mimetype": "text/x-python",
   "name": "python",
   "nbconvert_exporter": "python",
   "pygments_lexer": "ipython3",
   "version": "3.7.3"
  }
 },
 "nbformat": 4,
 "nbformat_minor": 2
}
