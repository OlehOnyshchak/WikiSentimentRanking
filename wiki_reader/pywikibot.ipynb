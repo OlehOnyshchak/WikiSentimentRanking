{
 "cells": [
  {
   "cell_type": "markdown",
   "metadata": {},
   "source": [
    "## Usage of python script"
   ]
  },
  {
   "cell_type": "code",
   "execution_count": 1,
   "metadata": {},
   "outputs": [],
   "source": [
    "import reader"
   ]
  },
  {
   "cell_type": "code",
   "execution_count": 2,
   "metadata": {},
   "outputs": [
    {
     "name": "stdout",
     "output_type": "stream",
     "text": [
      "491\n",
      "CPU times: user 101 ms, sys: 12.1 ms, total: 113 ms\n",
      "Wall time: 1.18 s\n"
     ]
    }
   ],
   "source": [
    "%%time\n",
    "peano_size = reader.query_size('peano')\n",
    "print(peano_size)"
   ]
  },
  {
   "cell_type": "code",
   "execution_count": 4,
   "metadata": {},
   "outputs": [
    {
     "name": "stdout",
     "output_type": "stream",
     "text": [
      "Cleaning old data\n",
      "Dumped 100 pages | peano\n",
      "Dumped 200 pages | peano\n",
      "Dumped 300 pages | peano\n",
      "Dumped 400 pages | peano\n",
      "Dumped 491 pages | peano\n",
      "CPU times: user 14.5 s, sys: 141 ms, total: 14.7 s\n",
      "Wall time: 21.2 s\n"
     ]
    }
   ],
   "source": [
    "%%time\n",
    "peano_path = reader.query('peano', batch_size=100, limit=None,\n",
    "                          is_category=False, debug_info=True, force_rewrite=True)"
   ]
  },
  {
   "cell_type": "code",
   "execution_count": 4,
   "metadata": {},
   "outputs": [
    {
     "name": "stdout",
     "output_type": "stream",
     "text": [
      "Dumped 100 pages\n",
      "Dumped 200 pages\n",
      "Dumped 300 pages\n",
      "Dumped 400 pages\n",
      "Dumped 500 pages\n",
      "Dumped 600 pages\n",
      "Dumped 700 pages\n",
      "Dumped 800 pages\n",
      "Dumped 900 pages\n",
      "Dumped 1000 pages\n",
      "Wall time: 34.1 s\n"
     ]
    }
   ],
   "source": [
    "%%time\n",
    "math_path = reader.query('Mathematics', batch_size=100, limit=1000, is_category=True, debug_info=True)"
   ]
  },
  {
   "cell_type": "code",
   "execution_count": 6,
   "metadata": {},
   "outputs": [
    {
     "name": "stdout",
     "output_type": "stream",
     "text": [
      "Request has already been downloaded\n",
      "True\n",
      "Wall time: 1.02 ms\n"
     ]
    }
   ],
   "source": [
    "%%time\n",
    "math_path2 = reader.query('Mathematics', batch_size=100, limit=1000, is_category=True, debug_info=True)\n",
    "print(math_path == math_path2)"
   ]
  },
  {
   "cell_type": "code",
   "execution_count": 13,
   "metadata": {
    "scrolled": false
   },
   "outputs": [
    {
     "name": "stdout",
     "output_type": "stream",
     "text": [
      "{ 'text': 'thumb|right|Giuseppe Peano \\n'\n",
      "          'thumb|right|First recorded usage of the symbol ϵ for set '\n",
      "          'membership.\\n'\n",
      "          '\\n'\n",
      "          'The 1889 treatise Arithmetices principia, nova methodo exposita '\n",
      "          '(The principles of arithmetic, presented by a new method; 1889) by '\n",
      "          'Giuseppe Peano is a seminal document in mathematical logic and set '\n",
      "          'theory, introducing what is now the standard axiomatization of the '\n",
      "          'natural numbers, and known as the Peano axioms, as well as some '\n",
      "          'pervasive notations, such as the symbols for the basic set '\n",
      "          'operations ∈, ⊂, ∩, ∪, and A−B.\\n'\n",
      "          '\\n'\n",
      "          'The treatise is written in Latin, which was already somewhat '\n",
      "          'unusual at the time of publication, Latin having fallen out of '\n",
      "          'favour as the lingua franca of scholarly communications by the end '\n",
      "          'of the 19th century. The use of Latin in spite of this reflected '\n",
      "          \"Peano's belief in the universal importance of the work – which is \"\n",
      "          'now generally regarded as his most important contribution to '\n",
      "          'arithmetic – and in that of universal communication. Peano would '\n",
      "          'publish later works both in Latin and in his own artificial '\n",
      "          'language, Latino sine flexione, which is a grammatically simplified '\n",
      "          'version of Latin.\\n'\n",
      "          '\\n'\n",
      "          'Peano also continued to publish mathematical notations in a series '\n",
      "          'from 1895 to 1908 collectively known as Formulario mathematico.\\n'\n",
      "          '\\n'\n",
      "          ' External links \\n'\n",
      "          ' English translation (with original Latin):  '\n",
      "          'https://github.com/mdnahas/Peano_Book/blob/master/Peano.pdf\\n'\n",
      "          ' Original treatise (in Latin, scanned) at Internet Archive: '\n",
      "          'https://archive.org/details/arithmeticespri00peangoog\\n'\n",
      "          '\\n'\n",
      "          ' References \\n'\n",
      "          '\\n'\n",
      "          'Category:Arithmetic\\n'\n",
      "          'Category:Academic works about mathematics',\n",
      "  'title': 'Arithmetices principia, nova methodo exposita',\n",
      "  'url': 'https://en.wikipedia.org/wiki/Arithmetices_principia%2C_nova_methodo_exposita'}\n"
     ]
    }
   ],
   "source": [
    "import json\n",
    "import pprint\n",
    "\n",
    "pp = pprint.PrettyPrinter(indent=2)\n",
    "\n",
    "with open(peano_path / '100.json', 'r', encoding='utf8') as json_file:  \n",
    "    data = json.load(json_file)\n",
    "    pp.pprint(data['pages'][3])"
   ]
  },
  {
   "cell_type": "markdown",
   "metadata": {},
   "source": [
    "## Implementation (Debug purposes)"
   ]
  },
  {
   "cell_type": "code",
   "execution_count": 7,
   "metadata": {},
   "outputs": [],
   "source": [
    "from pathlib import Path\n",
    "import pywikibot\n",
    "from pywikibot import pagegenerators\n",
    "import json\n",
    "import mwparserfromhell as mwp\n",
    "\n",
    "def _clean(wiki_text):\n",
    "    wikicode = mwp.parse(wiki_text)\n",
    "    return wikicode.strip_code()\n",
    "\n",
    "def _dump(path, data):\n",
    "    with open(path, 'w', encoding='utf8') as outfile:  \n",
    "        outfile.write(\"\\n\".join(data))\n",
    "#         json.dump(data, outfile, indent=2, ensure_ascii=False)\n",
    "        \n",
    "def query_size(request):\n",
    "    site = pywikibot.Site()\n",
    "    pages = list(site.search(request, namespaces=[0]))\n",
    "    \n",
    "    return len(pages)\n",
    "\n",
    "def get_requests_path(request):\n",
    "    requests_base = Path('../requests')\n",
    "    requests_path = requests_base / request\n",
    "    \n",
    "    is_exist = requests_path.exists()\n",
    "    if not is_exist:\n",
    "        requests_path.mkdir(parents=True)\n",
    "      \n",
    "    return (requests_path, is_exist)\n",
    "\n",
    "def query(request, batch_size=100, limit=1000, is_category=False,\n",
    "          preload_content=True, force_rewrite=True, debug_info=True):\n",
    "    requests_path, existed = get_requests_path(request)\n",
    "    \n",
    "    if existed:\n",
    "        if not force_rewrite:\n",
    "            if debug_info: print('Request has already been downloaded')\n",
    "            return requests_path\n",
    "        else:\n",
    "            if debug_info: print('Cleaning old data')\n",
    "            for x in requests_path.iterdir():\n",
    "                x.unlink()\n",
    "    \n",
    "    site = pywikibot.Site()    \n",
    "    if is_category:\n",
    "        category = pywikibot.Category(site, request)\n",
    "        pages = list(category.articles(namespaces=[0], # type of entities to query, 0 = page\n",
    "                              recurse=True, # also query all subpages\n",
    "                              total=limit,\n",
    "                              content=preload_content)) # preloaod pages\n",
    "    else:\n",
    "        pages = list(site.search(request,\n",
    "                                 total=limit,\n",
    "                                 content=preload_content, # preloaod pages\n",
    "                                 namespaces=[0])) # type of entities to query, 0 = page\n",
    "    \n",
    "    count = 0\n",
    "    data = []\n",
    "    for p in pages:\n",
    "        count += 1\n",
    "        data.append(json.dumps({\n",
    "            \"title\": p.title(),\n",
    "            \"url\": p.full_url(),\n",
    "            \"text\": _clean(p.text),\n",
    "        }))\n",
    "        \n",
    "        if count % batch_size == 0:\n",
    "            _dump(requests_path / (str(count) + '.json'), data)\n",
    "            data = []\n",
    "            if debug_info: print('Dumped {} pages | {}'.format(count, request))\n",
    "            \n",
    "    if len(data):\n",
    "        _dump(requests_path / (str(count) + '.json'), data)\n",
    "        if debug_info: print('Dumped {} pages | {}'.format(count, request))\n",
    "            \n",
    "    return requests_path"
   ]
  },
  {
   "cell_type": "code",
   "execution_count": 2,
   "metadata": {
    "scrolled": true
   },
   "outputs": [
    {
     "name": "stdout",
     "output_type": "stream",
     "text": [
      "Dumped 100 pages | Mathematics\n",
      "Dumped 100 pages | peano\n",
      "Dumped 200 pages | Mathematics\n",
      "Dumped 300 pages | Mathematics\n",
      "Dumped 400 pages | Mathematics\n",
      "Dumped 500 pages | Mathematics\n",
      "Dumped 200 pages | peano\n",
      "Dumped 300 pages | peano\n",
      "Dumped 400 pages | peano\n",
      "Dumped 491 pages | peano\n"
     ]
    }
   ],
   "source": [
    "from concurrent.futures import ThreadPoolExecutor\n",
    "\n",
    "wrapper = lambda r,b,l,cat,cont: query(r,batch_size=b,limit=l,is_category=cat,preload_content=cont)\n",
    "batch_size = 100\n",
    "limit = 500\n",
    "preload_content = True\n",
    "with ThreadPoolExecutor(max_workers=2) as e:\n",
    "    e.submit(wrapper, 'peano', batch_size, limit, False, preload_content)\n",
    "    e.submit(wrapper, 'Mathematics', batch_size, limit, True, preload_content)"
   ]
  },
  {
   "cell_type": "code",
   "execution_count": 8,
   "metadata": {
    "scrolled": true
   },
   "outputs": [
    {
     "name": "stdout",
     "output_type": "stream",
     "text": [
      "Cleaning old data\n",
      "Dumped 100 pages | peano\n",
      "Dumped 200 pages | peano\n",
      "Dumped 300 pages | peano\n",
      "Dumped 400 pages | peano\n",
      "Dumped 491 pages | peano\n",
      "CPU times: user 13.9 s, sys: 141 ms, total: 14.1 s\n",
      "Wall time: 25.1 s\n"
     ]
    },
    {
     "data": {
      "text/plain": [
       "PosixPath('../requests/peano')"
      ]
     },
     "execution_count": 8,
     "metadata": {},
     "output_type": "execute_result"
    }
   ],
   "source": [
    "%%time\n",
    "\n",
    "query('peano', batch_size=100, limit=None, is_category=False, preload_content=True)"
   ]
  },
  {
   "cell_type": "code",
   "execution_count": 8,
   "metadata": {},
   "outputs": [
    {
     "data": {
      "text/plain": [
       "'{\"title\": 23232, \"url\": 32, \"text\": 132}'"
      ]
     },
     "execution_count": 8,
     "metadata": {},
     "output_type": "execute_result"
    }
   ],
   "source": [
    "import json\n",
    "\n",
    "json.dumps({\n",
    "            \"title\": 23232,\n",
    "            \"url\": 32,\n",
    "            \"text\": 132,\n",
    "        })"
   ]
  }
 ],
 "metadata": {
  "kernelspec": {
   "display_name": "Python 3",
   "language": "python",
   "name": "python3"
  },
  "language_info": {
   "codemirror_mode": {
    "name": "ipython",
    "version": 3
   },
   "file_extension": ".py",
   "mimetype": "text/x-python",
   "name": "python",
   "nbconvert_exporter": "python",
   "pygments_lexer": "ipython3",
   "version": "3.7.1"
  }
 },
 "nbformat": 4,
 "nbformat_minor": 2
}
