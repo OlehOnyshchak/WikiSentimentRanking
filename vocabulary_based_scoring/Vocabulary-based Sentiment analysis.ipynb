{
 "cells": [
  {
   "cell_type": "markdown",
   "metadata": {},
   "source": [
    "# Easiest way \n",
    "## Based on VADER vocabulary of positive/negative polarity words\n"
   ]
  },
  {
   "cell_type": "code",
   "execution_count": 17,
   "metadata": {},
   "outputs": [],
   "source": [
    "import nltk\n",
    "from nltk.sentiment.vader import SentimentIntensityAnalyzer"
   ]
  },
  {
   "cell_type": "code",
   "execution_count": 40,
   "metadata": {},
   "outputs": [
    {
     "name": "stderr",
     "output_type": "stream",
     "text": [
      "[nltk_data] Downloading package punkt to\n",
      "[nltk_data]     C:\\Users\\Oleh\\AppData\\Roaming\\nltk_data...\n",
      "[nltk_data]   Unzipping tokenizers\\punkt.zip.\n"
     ]
    },
    {
     "data": {
      "text/plain": [
       "True"
      ]
     },
     "execution_count": 40,
     "metadata": {},
     "output_type": "execute_result"
    }
   ],
   "source": [
    "# run this for the first time on machine\n",
    "# nltk.download('vader_lexicon')\n",
    "# nltk.download('punkt')"
   ]
  },
  {
   "cell_type": "code",
   "execution_count": 5,
   "metadata": {},
   "outputs": [],
   "source": [
    "sia = SentimentIntensityAnalyzer()"
   ]
  },
  {
   "cell_type": "code",
   "execution_count": 33,
   "metadata": {},
   "outputs": [],
   "source": [
    "sentence = \"London is the capital of the UK\""
   ]
  },
  {
   "cell_type": "code",
   "execution_count": 37,
   "metadata": {},
   "outputs": [
    {
     "data": {
      "text/plain": [
       "{'neg': 0.0, 'neu': 1.0, 'pos': 0.0, 'compound': 0.0}"
      ]
     },
     "execution_count": 37,
     "metadata": {},
     "output_type": "execute_result"
    }
   ],
   "source": [
    "scores = sia.polarity_scores(sentence)\n",
    "scores"
   ]
  },
  {
   "cell_type": "code",
   "execution_count": 53,
   "metadata": {},
   "outputs": [],
   "source": [
    "text = \"\"\"Louisiana Highway 72 (LA 72) is a state highway located in Bossier City, Louisiana. \n",
    "It runs 2.49 miles (4.01 km) in an east–west direction from the intersection of Barksdale Boulevard and \n",
    "Hamilton Road to a junction with the concurrent U.S. Highways 79 and 80.\n",
    "The route serves as a commercial thoroughfare in Bossier City, \n",
    "running along Barksdale Boulevard from a point just east of the old downtown area situated near the Red River. \n",
    "It then passes through a cluster of shopping centers as it continues onto Old Minden Road near the junction with LA 3. \n",
    "LA 72 parallels Interstate 20 and provides access to the interstate at several different points along its short route. \n",
    "From the west, LA 72 begins on Barksdale Boulevard at its intersection with Hamilton Road. \n",
    "The route heads east on Barksdale Boulevard, a four-lane thoroughfare with a center turn lane. \n",
    "After a short distance, Barksdale Boulevard curves to southeast, connecting with southbound US 71. \n",
    "LA 72 continues straight ahead onto Old Minden Road and intersects LA 3 (Benton Spur Road), \n",
    "directly opposite a ramp leading to an interchange with westbound I-20 and northbound US 71. \n",
    "A short distance later, LA 72 passes directly through a diamond interchange with I-20 at exit 21.[2][3][4]\n",
    "Continuing eastward, LA 72 intersects LA 3105 (Airline Drive) and Northgate Road, \n",
    "leading to the nearby Barksdale Air Force Base. \n",
    "The highway then curves to the north and simultaneously intersects LA 782-2 (Industrial Drive). \n",
    "Shortly afterward, LA 72 crosses the Kansas City Southern Railway (KCS) tracks at grade and passes underneath I-20. \n",
    "LA 72 reaches its eastern terminus immediately afterward at an intersection with the concurrent US 79/US 80 (East Texas Street).\n",
    "[2][3][4]\n",
    "\n",
    "The route is classified as an urban minor arterial by the Louisiana Department of Transportation and Development (La DOTD).[5]\n",
    "Average daily traffic volume in 2013 ranged from 7,900 to 12,300 vehicles.[5] \n",
    "The entire route has a posted speed limit of 35 mph (55 km/h).[2]\"\"\""
   ]
  },
  {
   "cell_type": "code",
   "execution_count": 54,
   "metadata": {},
   "outputs": [
    {
     "name": "stdout",
     "output_type": "stream",
     "text": [
      "Score for the text when processed at once 0.5423\n"
     ]
    }
   ],
   "source": [
    "scores = sia.polarity_scores(text)\n",
    "print(\"Score for the text when processed at once {}\".format(scores['compound']))"
   ]
  },
  {
   "cell_type": "code",
   "execution_count": 55,
   "metadata": {},
   "outputs": [
    {
     "name": "stdout",
     "output_type": "stream",
     "text": [
      "Score for the text when sentence by sentence 0.6179\n"
     ]
    }
   ],
   "source": [
    "print(\"Score for the text when sentence by sentence {}\".format(\n",
    "    sum([sia.polarity_scores(sent)['compound'] for sent in nltk.sent_tokenize(text) ])))"
   ]
  },
  {
   "cell_type": "markdown",
   "metadata": {},
   "source": [
    "### Difference is most likely because of rule-based scoring and not accurate splitting text into sentences."
   ]
  },
  {
   "cell_type": "markdown",
   "metadata": {},
   "source": [
    "## How it should work with Spark?\n",
    "## Somehow like the following"
   ]
  },
  {
   "cell_type": "code",
   "execution_count": 35,
   "metadata": {},
   "outputs": [],
   "source": [
    "def sentiment_scorer(row, sentiment_analyzer):\n",
    "    return sentiment_analyzer(row)['compound']"
   ]
  },
  {
   "cell_type": "code",
   "execution_count": null,
   "metadata": {
    "scrolled": true
   },
   "outputs": [],
   "source": [
    "# df is a Spark DataFrame with columns `title`, `text`, ...\n",
    "# reuse SentimentIntensityAnalyzer to avoid creating it for each text\n",
    "df.withColumn('sentiment_score', df.select('text').map(lambda x: sentiment_scorer(x, sia)))\n"
   ]
  },
  {
   "cell_type": "code",
   "execution_count": null,
   "metadata": {},
   "outputs": [],
   "source": []
  }
 ],
 "metadata": {
  "kernelspec": {
   "display_name": "Python 3",
   "language": "python",
   "name": "python3"
  },
  "language_info": {
   "codemirror_mode": {
    "name": "ipython",
    "version": 3
   },
   "file_extension": ".py",
   "mimetype": "text/x-python",
   "name": "python",
   "nbconvert_exporter": "python",
   "pygments_lexer": "ipython3",
   "version": "3.6.8"
  }
 },
 "nbformat": 4,
 "nbformat_minor": 2
}
