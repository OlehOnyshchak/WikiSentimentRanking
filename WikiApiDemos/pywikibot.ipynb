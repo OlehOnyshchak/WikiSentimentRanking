{
 "cells": [
  {
   "cell_type": "code",
   "execution_count": 1,
   "metadata": {
    "scrolled": false
   },
   "outputs": [
    {
     "name": "stdout",
     "output_type": "stream",
     "text": [
      "Mathematics\n",
      "Proof School\n",
      "Data-driven control system\n",
      "The Archimedeans\n",
      "Archives of American Mathematics\n",
      "Analysis of Boolean functions\n",
      "Quota rule\n",
      "Discrete Logarithm Problem (DLP)\n",
      "Peano kernel theorem\n",
      "Outline of mathematics\n",
      "Cayley–Menger determinant\n",
      "Permutation category\n",
      "Phase reduction\n",
      "Priority heuristic\n",
      "Radial basis function interpolation\n",
      "Intersection\n",
      "Mathematics Subject Classification\n",
      "Areas of mathematics\n",
      "Glossary of areas of mathematics\n",
      "Physical mathematics\n"
     ]
    }
   ],
   "source": [
    "import pywikibot\n",
    "\n",
    "site = pywikibot.Site()\n",
    "category = pywikibot.Category(site, 'Category:Mathematics')\n",
    "pages = category.articles(total=20, # up to 20 results entites\n",
    "                          namespaces=[0], #type of entities to query, 0 = page\n",
    "                          recurse=True, # also query all subpages\n",
    "                          sortby='timestamp', # sort by creation date, not by name\n",
    "                          starttime='20190127') # output all pages after 2019/01/27\n",
    "\n",
    "parsed_pages = list(pages)\n",
    "for p in parsed_pages:\n",
    "    print(p.title())"
   ]
  },
  {
   "cell_type": "code",
   "execution_count": 2,
   "metadata": {
    "scrolled": false
   },
   "outputs": [
    {
     "data": {
      "text/plain": [
       "{'title': 'Proof School',\n",
       " 'text': '{{Infobox school\\n| name              = Proof School\\n| native_name       = \\n| logo              = File:Squircle-Official-purple.svg\\n| image             = \\n| image_size        = \\n| alt               = \\n| caption           = \\n| motto             = \\n| streetaddress     = 973 Mission Street\\n| city              = [[San Francisco]]\\n| state             = [[California]]\\n| province          = \\n| country           = [[United States|USA]]\\n| coordinates       = {{coord|37.781271|-122.407927|type:edu_globe:earth_region:US-CA|display=ti}}\\n| type              = [[Private School]] [[Middle school#United States|Secondary]]\\n| established       = \\n| founder           = Ian Brown, Paul Zeitz, and Dennis Leary\\n| status            = \\n| closed            = \\n| district          =\\n| category          = \\n| oversight         = \\n| chairman          = \\n| dean              =  Sam Vandervelde (mathematics); Zachary Sifuentes (humanities)\\n| administrator     = \\n| rector            = \\n| principal         = \\n| campus_director   = \\n| headmaster        = \\n| head              =  \\n| chaplain          = \\n| faculty           = \\n| teaching_staff    = \\n| grades            = 6–12\\n| gender            = \\n| enrollment        = 95\\n| houses            = \\n| colours           = \\n| athletics         = \\n| mascot            = \\n| nickname          = \\n| rival             = \\n| accreditation     =WASC \\n| national_ranking  = \\n| test_name         = \\n| test_average      = \\n| yearbook          = \\n| affiliations      = \\n| website           = http://proofschool.org\\n| footnotes         = \\n| picture           = \\n| picture_caption   = \\n| picture2          = \\n| picture_caption2  = \\n| category_label    = \\n| gender_label      = \\n| affiliation       = \\n| assst_admin       = \\n| president         = \\n| chairman_label    = \\n| asst principal    = \\n| head_name         = \\n| head_name2        = \\n| head2             = \\n| officer_in_charge = \\n| grades_label      = \\n| latitude          = \\n| longitude         = \\n| campus            = Urban\\n| colors            = \\n| student_union     = \\n| free_label        = \\n| free_text         = \\n| newpaper          = \\n| free_label_1      = \\n| free_1            = \\n| free_label_2      = \\n| free_2            = \\n| free_label_3      = \\n| free_3            = \\n}}\\n\\n\\'\\'\\'Proof School\\'\\'\\' is a school in [[San Francisco]] for pupils who love [[mathematics]]. Their slogan is \"For kids who love math.\" The school opened in the fall of 2015 with 45 students in grades 6–10.<ref name=\"MyUser_Bizjournals.com_July_5_2015c\">{{cite web |url=http://www.bizjournals.com/sanfrancisco/print-edition/2014/10/31/stem-education-math-skills-add-up-at-proof-school.html |title=Math skills add up at Proof School – San Francisco Business Times |newspaper=Bizjournals.com |date=  |author= |accessdate= July 5, 2015}}</ref> Currently, 94.4 students in grades 6–12 are enrolled in Proof School for the academic year (2018–2019).\\n\\n==Academics==\\n\\nProof School is a full-curriculum day school that emphasizes communication, collaboration, and problem solving. The school is accredited by [[Western Association of Schools and Colleges]].\\n\\nThe school year is divided into 5 \\'blocks\\', each of which consist of 6 normal academic weeks and a build week.\\n\\nEach student has 5 courses: 4 \\'morning\\' courses that vary across grades, and a math class. The morning courses meet twice a week for 80 minutes per class. The math courses meet for two hours and ten minutes every day in the afternoon.  \\n\\nThe (non-post-calculus) math classes focus on a different subject each block: Block 1 is Combinatorics, Block 2 is Algebra, Block 3 is Geometry, Block 4 is Algebra and Pre-Calculus, and Block 5 is Number Theory.\\n\\n<br />\\n\\n== Teams and Clubs ==\\nProof School currently has a number of internal clubs, as well as a [[Zero Robotics]] team called [https://proofrobotics.com Proof Robotics]. The team qualified for the competition finals, and is the leading member of the alliance Hit or Miss with the following teams: [http://www.liceocecioni.gov.it/index.php?option=com_content&view=article&id=880&Itemid=503 Crab Nebula] from Liveo Cecioni in Livorno, Italy and [http://www.crzerog.org/zero-robotics.html Rock Rovers] from Council Rock High School South in Holland, PA, USA. Hit or Miss placed 2nd place internationally, and performed one of the first satellite hookings aboard the ISS.\\n\\n==References==\\n{{reflist}}\\n\\n[[Category:Private schools in California]]\\n[[Category:Schools in San Francisco]]\\n[[Category:Mathematics]]'}"
      ]
     },
     "execution_count": 2,
     "metadata": {},
     "output_type": "execute_result"
    }
   ],
   "source": [
    "p = parsed_pages[1]\n",
    "parsed = {\n",
    "    'title': p.title(),\n",
    "    'text': p.text\n",
    "}\n",
    "parsed"
   ]
  }
 ],
 "metadata": {
  "kernelspec": {
   "display_name": "Python 3",
   "language": "python",
   "name": "python3"
  },
  "language_info": {
   "codemirror_mode": {
    "name": "ipython",
    "version": 3
   },
   "file_extension": ".py",
   "mimetype": "text/x-python",
   "name": "python",
   "nbconvert_exporter": "python",
   "pygments_lexer": "ipython3",
   "version": "3.6.5"
  }
 },
 "nbformat": 4,
 "nbformat_minor": 2
}
