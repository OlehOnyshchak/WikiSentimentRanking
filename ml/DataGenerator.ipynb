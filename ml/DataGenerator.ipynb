{
 "cells": [
  {
   "cell_type": "code",
   "execution_count": 22,
   "metadata": {},
   "outputs": [],
   "source": [
    "import glob\n",
    "import os\n",
    "import time\n",
    "\n",
    "from random import random"
   ]
  },
  {
   "cell_type": "code",
   "execution_count": 38,
   "metadata": {},
   "outputs": [],
   "source": [
    "def generate(path, num=100):\n",
    "    for i in range(0, num):\n",
    "        file = open(os.path.join(path, 'data{}.json'.format(i)),'w')\n",
    "        file.write('{\"name\": \"Page #' + str(i) + '\", \"emotions\": { \"neg\": ' + str(round(random(), 3)) + ',  \"neu\": ' + str(round(random(), 3)) + ', \"pos\": ' + str(round(random(), 3)) + ', \"compound\": ' + str(round(random(), 3)) + '}}')\n",
    "        file.close()\n",
    "        time.sleep(1)"
   ]
  },
  {
   "cell_type": "code",
   "execution_count": 40,
   "metadata": {},
   "outputs": [],
   "source": [
    "path = '../responses/'\n",
    "\n",
    "for f in glob.glob(os.path.join(path, '*.json')):\n",
    "    os.remove(f)\n",
    "    \n",
    "generate(path)"
   ]
  }
 ],
 "metadata": {
  "kernelspec": {
   "display_name": "Python 3",
   "language": "python",
   "name": "python3"
  },
  "language_info": {
   "codemirror_mode": {
    "name": "ipython",
    "version": 3
   },
   "file_extension": ".py",
   "mimetype": "text/x-python",
   "name": "python",
   "nbconvert_exporter": "python",
   "pygments_lexer": "ipython3",
   "version": "3.6.8"
  }
 },
 "nbformat": 4,
 "nbformat_minor": 2
}
