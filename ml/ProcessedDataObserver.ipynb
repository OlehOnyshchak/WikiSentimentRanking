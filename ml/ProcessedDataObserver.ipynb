{
 "cells": [
  {
   "cell_type": "code",
   "execution_count": 1,
   "metadata": {},
   "outputs": [],
   "source": [
    "# pip install watchdog"
   ]
  },
  {
   "cell_type": "code",
   "execution_count": 2,
   "metadata": {},
   "outputs": [],
   "source": [
    "import sys\n",
    "import time\n",
    "import logging\n",
    "\n",
    "from watchdog.observers import Observer\n",
    "from watchdog.events import LoggingEventHandler\n",
    "from watchdog.events import FileSystemEventHandler\n",
    "\n",
    "from IPython.display import display\n",
    "from IPython.display import clear_output\n",
    "from ipywidgets import IntProgress\n",
    "\n",
    "import json\n",
    "\n",
    "import pandas as pd\n",
    "\n",
    "from os import listdir\n",
    "from os.path import isfile, join"
   ]
  },
  {
   "cell_type": "code",
   "execution_count": 3,
   "metadata": {},
   "outputs": [
    {
     "data": {
      "application/javascript": [
       "IPython.OutputArea.auto_scroll_threshold = 20;"
      ],
      "text/plain": [
       "<IPython.core.display.Javascript object>"
      ]
     },
     "metadata": {},
     "output_type": "display_data"
    }
   ],
   "source": [
    "%%javascript\n",
    "IPython.OutputArea.auto_scroll_threshold = 20;"
   ]
  },
  {
   "cell_type": "code",
   "execution_count": 4,
   "metadata": {},
   "outputs": [],
   "source": [
    "df = pd.DataFrame(columns=['name','neg', 'neu', 'pos', 'compound'])\n",
    "\n",
    "path = '../responses/'"
   ]
  },
  {
   "cell_type": "code",
   "execution_count": 5,
   "metadata": {},
   "outputs": [],
   "source": [
    "def insertDataFromJSON(filepath):\n",
    "    global df\n",
    "    with open(filepath) as json_file:\n",
    "        json_data = json.load(json_file)\n",
    "\n",
    "        df = df.append({\n",
    "            'name': json_data['name'], \n",
    "            'neg': json_data['emotions']['neg'],\n",
    "            'neu': json_data['emotions']['neu'],\n",
    "            'pos': json_data['emotions']['pos'],\n",
    "            'compound': json_data['emotions']['compound']\n",
    "        }, ignore_index=True)"
   ]
  },
  {
   "cell_type": "code",
   "execution_count": 6,
   "metadata": {},
   "outputs": [],
   "source": [
    "### observe new files\n",
    "def on_file_created(filepath):\n",
    "    global df\n",
    "    \n",
    "    if(not filepath.endswith(\".json\")):\n",
    "        print(df)\n",
    "        return\n",
    "    \n",
    "    insertDataFromJSON(filepath)\n",
    "    \n",
    "    df = df.sort_values(by=['compound'], ascending=False).reset_index(drop=True)\n",
    "\n",
    "    mean_text = 'Mean: {}'.format(round(df[\"compound\"].mean(),3))\n",
    "    display(mean_text)\n",
    "    display(df)"
   ]
  },
  {
   "cell_type": "code",
   "execution_count": 7,
   "metadata": {},
   "outputs": [],
   "source": [
    "def observe(path = \"./\"):\n",
    "\n",
    "    files_to_be_created = 100\n",
    "\n",
    "    pb = IntProgress(description='Iter 0/{}'.format(files_to_be_created), min=0, max=files_to_be_created)\n",
    "    display(pb)\n",
    "\n",
    "    class EventHandler(FileSystemEventHandler):\n",
    "        def on_created(self, event):\n",
    "            pb.value += 1\n",
    "            pb.description = 'Iter {}/{}'.format(pb.value, files_to_be_created)\n",
    "            clear_output(wait=True)\n",
    "            display(pb)\n",
    "            on_file_created(event.src_path)\n",
    "\n",
    "    event_handler = EventHandler()\n",
    "    observer = Observer()\n",
    "    observer.schedule(event_handler, path, recursive=True)\n",
    "    observer.start()\n",
    "    try:\n",
    "        while True:\n",
    "            time.sleep(1)\n",
    "    except KeyboardInterrupt:\n",
    "        observer.stop()\n",
    "    observer.join()"
   ]
  },
  {
   "cell_type": "code",
   "execution_count": 8,
   "metadata": {},
   "outputs": [
    {
     "data": {
      "text/plain": [
       "'Mean: 0.519'"
      ]
     },
     "metadata": {},
     "output_type": "display_data"
    },
    {
     "data": {
      "text/html": [
       "<div>\n",
       "<style scoped>\n",
       "    .dataframe tbody tr th:only-of-type {\n",
       "        vertical-align: middle;\n",
       "    }\n",
       "\n",
       "    .dataframe tbody tr th {\n",
       "        vertical-align: top;\n",
       "    }\n",
       "\n",
       "    .dataframe thead th {\n",
       "        text-align: right;\n",
       "    }\n",
       "</style>\n",
       "<table border=\"1\" class=\"dataframe\">\n",
       "  <thead>\n",
       "    <tr style=\"text-align: right;\">\n",
       "      <th></th>\n",
       "      <th>name</th>\n",
       "      <th>neg</th>\n",
       "      <th>neu</th>\n",
       "      <th>pos</th>\n",
       "      <th>compound</th>\n",
       "    </tr>\n",
       "  </thead>\n",
       "  <tbody>\n",
       "    <tr>\n",
       "      <th>0</th>\n",
       "      <td>Page #7</td>\n",
       "      <td>0.533</td>\n",
       "      <td>0.148</td>\n",
       "      <td>0.981</td>\n",
       "      <td>0.941</td>\n",
       "    </tr>\n",
       "    <tr>\n",
       "      <th>1</th>\n",
       "      <td>Page #6</td>\n",
       "      <td>0.994</td>\n",
       "      <td>0.980</td>\n",
       "      <td>0.901</td>\n",
       "      <td>0.824</td>\n",
       "    </tr>\n",
       "    <tr>\n",
       "      <th>2</th>\n",
       "      <td>Page #8</td>\n",
       "      <td>0.366</td>\n",
       "      <td>0.119</td>\n",
       "      <td>0.211</td>\n",
       "      <td>0.798</td>\n",
       "    </tr>\n",
       "    <tr>\n",
       "      <th>3</th>\n",
       "      <td>Page #3</td>\n",
       "      <td>0.010</td>\n",
       "      <td>0.993</td>\n",
       "      <td>0.520</td>\n",
       "      <td>0.610</td>\n",
       "    </tr>\n",
       "    <tr>\n",
       "      <th>4</th>\n",
       "      <td>Page #2</td>\n",
       "      <td>0.585</td>\n",
       "      <td>0.510</td>\n",
       "      <td>0.815</td>\n",
       "      <td>0.593</td>\n",
       "    </tr>\n",
       "    <tr>\n",
       "      <th>5</th>\n",
       "      <td>Page #4</td>\n",
       "      <td>0.131</td>\n",
       "      <td>0.756</td>\n",
       "      <td>0.764</td>\n",
       "      <td>0.589</td>\n",
       "    </tr>\n",
       "    <tr>\n",
       "      <th>6</th>\n",
       "      <td>Page #9</td>\n",
       "      <td>0.503</td>\n",
       "      <td>0.711</td>\n",
       "      <td>0.257</td>\n",
       "      <td>0.426</td>\n",
       "    </tr>\n",
       "    <tr>\n",
       "      <th>7</th>\n",
       "      <td>Page #9</td>\n",
       "      <td>0.503</td>\n",
       "      <td>0.711</td>\n",
       "      <td>0.257</td>\n",
       "      <td>0.426</td>\n",
       "    </tr>\n",
       "    <tr>\n",
       "      <th>8</th>\n",
       "      <td>Page #1</td>\n",
       "      <td>0.019</td>\n",
       "      <td>0.232</td>\n",
       "      <td>0.261</td>\n",
       "      <td>0.344</td>\n",
       "    </tr>\n",
       "    <tr>\n",
       "      <th>9</th>\n",
       "      <td>Page #5</td>\n",
       "      <td>0.778</td>\n",
       "      <td>0.866</td>\n",
       "      <td>0.049</td>\n",
       "      <td>0.152</td>\n",
       "    </tr>\n",
       "    <tr>\n",
       "      <th>10</th>\n",
       "      <td>Page #0</td>\n",
       "      <td>0.269</td>\n",
       "      <td>0.737</td>\n",
       "      <td>0.524</td>\n",
       "      <td>0.005</td>\n",
       "    </tr>\n",
       "  </tbody>\n",
       "</table>\n",
       "</div>"
      ],
      "text/plain": [
       "       name    neg    neu    pos  compound\n",
       "0   Page #7  0.533  0.148  0.981     0.941\n",
       "1   Page #6  0.994  0.980  0.901     0.824\n",
       "2   Page #8  0.366  0.119  0.211     0.798\n",
       "3   Page #3  0.010  0.993  0.520     0.610\n",
       "4   Page #2  0.585  0.510  0.815     0.593\n",
       "5   Page #4  0.131  0.756  0.764     0.589\n",
       "6   Page #9  0.503  0.711  0.257     0.426\n",
       "7   Page #9  0.503  0.711  0.257     0.426\n",
       "8   Page #1  0.019  0.232  0.261     0.344\n",
       "9   Page #5  0.778  0.866  0.049     0.152\n",
       "10  Page #0  0.269  0.737  0.524     0.005"
      ]
     },
     "metadata": {},
     "output_type": "display_data"
    },
    {
     "data": {
      "application/vnd.jupyter.widget-view+json": {
       "model_id": "4e760e1f5878491f8e14ab2fe2c0d702",
       "version_major": 2,
       "version_minor": 0
      },
      "text/html": [
       "<p>Failed to display Jupyter Widget of type <code>IntProgress</code>.</p>\n",
       "<p>\n",
       "  If you're reading this message in the Jupyter Notebook or JupyterLab Notebook, it may mean\n",
       "  that the widgets JavaScript is still loading. If this message persists, it\n",
       "  likely means that the widgets JavaScript library is either not installed or\n",
       "  not enabled. See the <a href=\"https://ipywidgets.readthedocs.io/en/stable/user_install.html\">Jupyter\n",
       "  Widgets Documentation</a> for setup instructions.\n",
       "</p>\n",
       "<p>\n",
       "  If you're reading this message in another frontend (for example, a static\n",
       "  rendering on GitHub or <a href=\"https://nbviewer.jupyter.org/\">NBViewer</a>),\n",
       "  it may mean that your frontend doesn't currently support widgets.\n",
       "</p>\n"
      ],
      "text/plain": [
       "IntProgress(value=0, description='Iter 0/100')"
      ]
     },
     "metadata": {},
     "output_type": "display_data"
    }
   ],
   "source": [
    "df.drop(df.index, inplace=True)\n",
    "\n",
    "### read existing files\n",
    "\n",
    "for filename in [f for f in listdir(path) if isfile(join(path, f))]:\n",
    "    \n",
    "    if(not filename.endswith(\".json\")):\n",
    "        continue\n",
    "    \n",
    "    insertDataFromJSON(join(path, filename))\n",
    "    \n",
    "df = df.sort_values(by=['compound'], ascending=False).reset_index(drop=True)\n",
    "mean_text = 'Mean: {}'.format(round(df[\"compound\"].mean(),3))\n",
    "\n",
    "display(mean_text)\n",
    "display(df)\n",
    "        \n",
    "### observe\n",
    "\n",
    "observe('../responses/')"
   ]
  }
 ],
 "metadata": {
  "kernelspec": {
   "display_name": "Python 3",
   "language": "python",
   "name": "python3"
  },
  "language_info": {
   "codemirror_mode": {
    "name": "ipython",
    "version": 3
   },
   "file_extension": ".py",
   "mimetype": "text/x-python",
   "name": "python",
   "nbconvert_exporter": "python",
   "pygments_lexer": "ipython3",
   "version": "3.6.8"
  }
 },
 "nbformat": 4,
 "nbformat_minor": 2
}
